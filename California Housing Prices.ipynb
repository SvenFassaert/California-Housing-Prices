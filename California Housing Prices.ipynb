{
 "cells": [
  {
   "cell_type": "markdown",
   "metadata": {},
   "source": [
    "# Prediciting California Housing Prices Machine Learning"
   ]
  },
  {
   "cell_type": "markdown",
   "metadata": {},
   "source": [
    "## **Chapter 1: Data Exploration, Visualization, Cleaning and Correlations**\n",
    "\n",
    "**Introduction:**  \n",
    "Begin your analysis by familiarizing yourself with the dataset. This initial exploration helps in understanding the data's structure and characteristics, setting the stage for more detailed analysis."
   ]
  },
  {
   "cell_type": "markdown",
   "metadata": {},
   "source": [
    "**1.1 Loading the Dataset**  \n",
    "- Import the dataset and review the initial rows to grasp its basic structure.\n"
   ]
  },
  {
   "cell_type": "code",
   "execution_count": 75,
   "metadata": {},
   "outputs": [],
   "source": [
    "import pandas as pd\n",
    "import numpy as np\n",
    "import matplotlib.pyplot as plt \n",
    "import seaborn as sns\n",
    "import plotly.express as px\n",
    "from sklearn.preprocessing import StandardScaler"
   ]
  },
  {
   "cell_type": "code",
   "execution_count": 76,
   "metadata": {},
   "outputs": [
    {
     "data": {
      "text/html": [
       "<div>\n",
       "<style scoped>\n",
       "    .dataframe tbody tr th:only-of-type {\n",
       "        vertical-align: middle;\n",
       "    }\n",
       "\n",
       "    .dataframe tbody tr th {\n",
       "        vertical-align: top;\n",
       "    }\n",
       "\n",
       "    .dataframe thead th {\n",
       "        text-align: right;\n",
       "    }\n",
       "</style>\n",
       "<table border=\"1\" class=\"dataframe\">\n",
       "  <thead>\n",
       "    <tr style=\"text-align: right;\">\n",
       "      <th></th>\n",
       "      <th>longitude</th>\n",
       "      <th>latitude</th>\n",
       "      <th>housing_median_age</th>\n",
       "      <th>total_rooms</th>\n",
       "      <th>total_bedrooms</th>\n",
       "      <th>population</th>\n",
       "      <th>households</th>\n",
       "      <th>median_income</th>\n",
       "      <th>median_house_value</th>\n",
       "      <th>ocean_proximity</th>\n",
       "    </tr>\n",
       "  </thead>\n",
       "  <tbody>\n",
       "    <tr>\n",
       "      <th>0</th>\n",
       "      <td>-122.23</td>\n",
       "      <td>37.88</td>\n",
       "      <td>41.0</td>\n",
       "      <td>880.0</td>\n",
       "      <td>129.0</td>\n",
       "      <td>322.0</td>\n",
       "      <td>126.0</td>\n",
       "      <td>8.3252</td>\n",
       "      <td>452600.0</td>\n",
       "      <td>NEAR BAY</td>\n",
       "    </tr>\n",
       "    <tr>\n",
       "      <th>1</th>\n",
       "      <td>-122.22</td>\n",
       "      <td>37.86</td>\n",
       "      <td>21.0</td>\n",
       "      <td>7099.0</td>\n",
       "      <td>1106.0</td>\n",
       "      <td>2401.0</td>\n",
       "      <td>1138.0</td>\n",
       "      <td>8.3014</td>\n",
       "      <td>358500.0</td>\n",
       "      <td>NEAR BAY</td>\n",
       "    </tr>\n",
       "    <tr>\n",
       "      <th>2</th>\n",
       "      <td>-122.24</td>\n",
       "      <td>37.85</td>\n",
       "      <td>52.0</td>\n",
       "      <td>1467.0</td>\n",
       "      <td>190.0</td>\n",
       "      <td>496.0</td>\n",
       "      <td>177.0</td>\n",
       "      <td>7.2574</td>\n",
       "      <td>352100.0</td>\n",
       "      <td>NEAR BAY</td>\n",
       "    </tr>\n",
       "    <tr>\n",
       "      <th>3</th>\n",
       "      <td>-122.25</td>\n",
       "      <td>37.85</td>\n",
       "      <td>52.0</td>\n",
       "      <td>1274.0</td>\n",
       "      <td>235.0</td>\n",
       "      <td>558.0</td>\n",
       "      <td>219.0</td>\n",
       "      <td>5.6431</td>\n",
       "      <td>341300.0</td>\n",
       "      <td>NEAR BAY</td>\n",
       "    </tr>\n",
       "    <tr>\n",
       "      <th>4</th>\n",
       "      <td>-122.25</td>\n",
       "      <td>37.85</td>\n",
       "      <td>52.0</td>\n",
       "      <td>1627.0</td>\n",
       "      <td>280.0</td>\n",
       "      <td>565.0</td>\n",
       "      <td>259.0</td>\n",
       "      <td>3.8462</td>\n",
       "      <td>342200.0</td>\n",
       "      <td>NEAR BAY</td>\n",
       "    </tr>\n",
       "  </tbody>\n",
       "</table>\n",
       "</div>"
      ],
      "text/plain": [
       "   longitude  latitude  housing_median_age  total_rooms  total_bedrooms  \\\n",
       "0    -122.23     37.88                41.0        880.0           129.0   \n",
       "1    -122.22     37.86                21.0       7099.0          1106.0   \n",
       "2    -122.24     37.85                52.0       1467.0           190.0   \n",
       "3    -122.25     37.85                52.0       1274.0           235.0   \n",
       "4    -122.25     37.85                52.0       1627.0           280.0   \n",
       "\n",
       "   population  households  median_income  median_house_value ocean_proximity  \n",
       "0       322.0       126.0         8.3252            452600.0        NEAR BAY  \n",
       "1      2401.0      1138.0         8.3014            358500.0        NEAR BAY  \n",
       "2       496.0       177.0         7.2574            352100.0        NEAR BAY  \n",
       "3       558.0       219.0         5.6431            341300.0        NEAR BAY  \n",
       "4       565.0       259.0         3.8462            342200.0        NEAR BAY  "
      ]
     },
     "execution_count": 76,
     "metadata": {},
     "output_type": "execute_result"
    }
   ],
   "source": [
    "import pandas as pd\n",
    "\n",
    "# Load the dataset into a DataFrame\n",
    "df = pd.read_csv('housing.csv')\n",
    "\n",
    "# Display the first few rows of the DataFrame to check the data\n",
    "df.head()"
   ]
  },
  {
   "cell_type": "markdown",
   "metadata": {},
   "source": [
    "The data consists of the following attributes, as described by Kaggle (source: [Kaggle California Housing Prices Dataset](https://www.kaggle.com/datasets/camnugent/california-housing-prices)):\n",
    "\n",
    "1. **Longitude:** Indicates how far west a house is located; higher values represent positions farther west.\n",
    "2. **Latitude:** Indicates how far north a house is located; higher values represent positions farther north.\n",
    "3. **Housing Median Age:** The median age of houses within a block; lower values indicate newer buildings.\n",
    "4. **Total Rooms:** The total number of rooms within a block.\n",
    "5. **Total Bedrooms:** The total number of bedrooms within a block.\n",
    "6. **Population:** The total number of people residing within a block.\n",
    "7. **Households:** The total number of households (groups of people residing in a single housing unit) within a block.\n",
    "8. **Median Income:** The median income of households within a block, measured in tens of thousands of US dollars.\n",
    "9. **Median House Value:** The median value of houses within a block, measured in US dollars.\n",
    "10. **Ocean Proximity:** The location of the house relative to the ocean or sea."
   ]
  },
  {
   "cell_type": "code",
   "execution_count": 77,
   "metadata": {},
   "outputs": [
    {
     "name": "stdout",
     "output_type": "stream",
     "text": [
      "<class 'pandas.core.frame.DataFrame'>\n",
      "RangeIndex: 20640 entries, 0 to 20639\n",
      "Data columns (total 10 columns):\n",
      " #   Column              Non-Null Count  Dtype  \n",
      "---  ------              --------------  -----  \n",
      " 0   longitude           20640 non-null  float64\n",
      " 1   latitude            20640 non-null  float64\n",
      " 2   housing_median_age  20640 non-null  float64\n",
      " 3   total_rooms         20640 non-null  float64\n",
      " 4   total_bedrooms      20433 non-null  float64\n",
      " 5   population          20640 non-null  float64\n",
      " 6   households          20640 non-null  float64\n",
      " 7   median_income       20640 non-null  float64\n",
      " 8   median_house_value  20640 non-null  float64\n",
      " 9   ocean_proximity     20640 non-null  object \n",
      "dtypes: float64(9), object(1)\n",
      "memory usage: 1.6+ MB\n"
     ]
    }
   ],
   "source": [
    "#Get the information of the data\n",
    "df.info()"
   ]
  },
  {
   "cell_type": "code",
   "execution_count": 78,
   "metadata": {},
   "outputs": [
    {
     "data": {
      "text/plain": [
       "Index(['longitude', 'latitude', 'housing_median_age', 'total_rooms',\n",
       "       'total_bedrooms', 'population', 'households', 'median_income',\n",
       "       'median_house_value', 'ocean_proximity'],\n",
       "      dtype='object')"
      ]
     },
     "execution_count": 78,
     "metadata": {},
     "output_type": "execute_result"
    }
   ],
   "source": [
    "#Get the columns of the data\n",
    "df.columns"
   ]
  },
  {
   "cell_type": "code",
   "execution_count": 79,
   "metadata": {},
   "outputs": [
    {
     "data": {
      "text/plain": [
       "longitude               0\n",
       "latitude                0\n",
       "housing_median_age      0\n",
       "total_rooms             0\n",
       "total_bedrooms        207\n",
       "population              0\n",
       "households              0\n",
       "median_income           0\n",
       "median_house_value      0\n",
       "ocean_proximity         0\n",
       "dtype: int64"
      ]
     },
     "execution_count": 79,
     "metadata": {},
     "output_type": "execute_result"
    }
   ],
   "source": [
    "#Check for missing values\n",
    "df.isnull().sum()"
   ]
  },
  {
   "cell_type": "code",
   "execution_count": 80,
   "metadata": {},
   "outputs": [],
   "source": [
    "#Drop the missing values\n",
    "df.dropna(inplace=True)"
   ]
  },
  {
   "cell_type": "code",
   "execution_count": 81,
   "metadata": {},
   "outputs": [
    {
     "data": {
      "text/plain": [
       "(20433, 10)"
      ]
     },
     "execution_count": 81,
     "metadata": {},
     "output_type": "execute_result"
    }
   ],
   "source": [
    "#check the shape of the data\n",
    "df.shape\n"
   ]
  },
  {
   "cell_type": "code",
   "execution_count": 82,
   "metadata": {},
   "outputs": [
    {
     "data": {
      "text/plain": [
       "longitude             float64\n",
       "latitude              float64\n",
       "housing_median_age    float64\n",
       "total_rooms           float64\n",
       "total_bedrooms        float64\n",
       "population            float64\n",
       "households            float64\n",
       "median_income         float64\n",
       "median_house_value    float64\n",
       "ocean_proximity        object\n",
       "dtype: object"
      ]
     },
     "execution_count": 82,
     "metadata": {},
     "output_type": "execute_result"
    }
   ],
   "source": [
    "df.dtypes"
   ]
  },
  {
   "cell_type": "markdown",
   "metadata": {},
   "source": [
    "**1.2 Statistical Overview**  \n",
    "- Analyze key statistical metrics such as mean, median, standard deviation, etc., to summarize the data.\n"
   ]
  },
  {
   "cell_type": "code",
   "execution_count": 83,
   "metadata": {},
   "outputs": [
    {
     "data": {
      "text/html": [
       "<div>\n",
       "<style scoped>\n",
       "    .dataframe tbody tr th:only-of-type {\n",
       "        vertical-align: middle;\n",
       "    }\n",
       "\n",
       "    .dataframe tbody tr th {\n",
       "        vertical-align: top;\n",
       "    }\n",
       "\n",
       "    .dataframe thead th {\n",
       "        text-align: right;\n",
       "    }\n",
       "</style>\n",
       "<table border=\"1\" class=\"dataframe\">\n",
       "  <thead>\n",
       "    <tr style=\"text-align: right;\">\n",
       "      <th></th>\n",
       "      <th>longitude</th>\n",
       "      <th>latitude</th>\n",
       "      <th>housing_median_age</th>\n",
       "      <th>total_rooms</th>\n",
       "      <th>total_bedrooms</th>\n",
       "      <th>population</th>\n",
       "      <th>households</th>\n",
       "      <th>median_income</th>\n",
       "      <th>median_house_value</th>\n",
       "    </tr>\n",
       "  </thead>\n",
       "  <tbody>\n",
       "    <tr>\n",
       "      <th>count</th>\n",
       "      <td>20433.000000</td>\n",
       "      <td>20433.000000</td>\n",
       "      <td>20433.000000</td>\n",
       "      <td>20433.000000</td>\n",
       "      <td>20433.000000</td>\n",
       "      <td>20433.000000</td>\n",
       "      <td>20433.000000</td>\n",
       "      <td>20433.000000</td>\n",
       "      <td>20433.000000</td>\n",
       "    </tr>\n",
       "    <tr>\n",
       "      <th>mean</th>\n",
       "      <td>-119.570689</td>\n",
       "      <td>35.633221</td>\n",
       "      <td>28.633094</td>\n",
       "      <td>2636.504233</td>\n",
       "      <td>537.870553</td>\n",
       "      <td>1424.946949</td>\n",
       "      <td>499.433465</td>\n",
       "      <td>3.871162</td>\n",
       "      <td>206864.413155</td>\n",
       "    </tr>\n",
       "    <tr>\n",
       "      <th>std</th>\n",
       "      <td>2.003578</td>\n",
       "      <td>2.136348</td>\n",
       "      <td>12.591805</td>\n",
       "      <td>2185.269567</td>\n",
       "      <td>421.385070</td>\n",
       "      <td>1133.208490</td>\n",
       "      <td>382.299226</td>\n",
       "      <td>1.899291</td>\n",
       "      <td>115435.667099</td>\n",
       "    </tr>\n",
       "    <tr>\n",
       "      <th>min</th>\n",
       "      <td>-124.350000</td>\n",
       "      <td>32.540000</td>\n",
       "      <td>1.000000</td>\n",
       "      <td>2.000000</td>\n",
       "      <td>1.000000</td>\n",
       "      <td>3.000000</td>\n",
       "      <td>1.000000</td>\n",
       "      <td>0.499900</td>\n",
       "      <td>14999.000000</td>\n",
       "    </tr>\n",
       "    <tr>\n",
       "      <th>25%</th>\n",
       "      <td>-121.800000</td>\n",
       "      <td>33.930000</td>\n",
       "      <td>18.000000</td>\n",
       "      <td>1450.000000</td>\n",
       "      <td>296.000000</td>\n",
       "      <td>787.000000</td>\n",
       "      <td>280.000000</td>\n",
       "      <td>2.563700</td>\n",
       "      <td>119500.000000</td>\n",
       "    </tr>\n",
       "    <tr>\n",
       "      <th>50%</th>\n",
       "      <td>-118.490000</td>\n",
       "      <td>34.260000</td>\n",
       "      <td>29.000000</td>\n",
       "      <td>2127.000000</td>\n",
       "      <td>435.000000</td>\n",
       "      <td>1166.000000</td>\n",
       "      <td>409.000000</td>\n",
       "      <td>3.536500</td>\n",
       "      <td>179700.000000</td>\n",
       "    </tr>\n",
       "    <tr>\n",
       "      <th>75%</th>\n",
       "      <td>-118.010000</td>\n",
       "      <td>37.720000</td>\n",
       "      <td>37.000000</td>\n",
       "      <td>3143.000000</td>\n",
       "      <td>647.000000</td>\n",
       "      <td>1722.000000</td>\n",
       "      <td>604.000000</td>\n",
       "      <td>4.744000</td>\n",
       "      <td>264700.000000</td>\n",
       "    </tr>\n",
       "    <tr>\n",
       "      <th>max</th>\n",
       "      <td>-114.310000</td>\n",
       "      <td>41.950000</td>\n",
       "      <td>52.000000</td>\n",
       "      <td>39320.000000</td>\n",
       "      <td>6445.000000</td>\n",
       "      <td>35682.000000</td>\n",
       "      <td>6082.000000</td>\n",
       "      <td>15.000100</td>\n",
       "      <td>500001.000000</td>\n",
       "    </tr>\n",
       "  </tbody>\n",
       "</table>\n",
       "</div>"
      ],
      "text/plain": [
       "          longitude      latitude  housing_median_age   total_rooms  \\\n",
       "count  20433.000000  20433.000000        20433.000000  20433.000000   \n",
       "mean    -119.570689     35.633221           28.633094   2636.504233   \n",
       "std        2.003578      2.136348           12.591805   2185.269567   \n",
       "min     -124.350000     32.540000            1.000000      2.000000   \n",
       "25%     -121.800000     33.930000           18.000000   1450.000000   \n",
       "50%     -118.490000     34.260000           29.000000   2127.000000   \n",
       "75%     -118.010000     37.720000           37.000000   3143.000000   \n",
       "max     -114.310000     41.950000           52.000000  39320.000000   \n",
       "\n",
       "       total_bedrooms    population    households  median_income  \\\n",
       "count    20433.000000  20433.000000  20433.000000   20433.000000   \n",
       "mean       537.870553   1424.946949    499.433465       3.871162   \n",
       "std        421.385070   1133.208490    382.299226       1.899291   \n",
       "min          1.000000      3.000000      1.000000       0.499900   \n",
       "25%        296.000000    787.000000    280.000000       2.563700   \n",
       "50%        435.000000   1166.000000    409.000000       3.536500   \n",
       "75%        647.000000   1722.000000    604.000000       4.744000   \n",
       "max       6445.000000  35682.000000   6082.000000      15.000100   \n",
       "\n",
       "       median_house_value  \n",
       "count        20433.000000  \n",
       "mean        206864.413155  \n",
       "std         115435.667099  \n",
       "min          14999.000000  \n",
       "25%         119500.000000  \n",
       "50%         179700.000000  \n",
       "75%         264700.000000  \n",
       "max         500001.000000  "
      ]
     },
     "execution_count": 83,
     "metadata": {},
     "output_type": "execute_result"
    }
   ],
   "source": [
    "#Show the statistics of the data\n",
    "df.describe()"
   ]
  },
  {
   "cell_type": "code",
   "execution_count": 84,
   "metadata": {},
   "outputs": [
    {
     "data": {
      "text/plain": [
       "<1H OCEAN     9034\n",
       "INLAND        6496\n",
       "NEAR OCEAN    2628\n",
       "NEAR BAY      2270\n",
       "ISLAND           5\n",
       "Name: ocean_proximity, dtype: int64"
      ]
     },
     "execution_count": 84,
     "metadata": {},
     "output_type": "execute_result"
    }
   ],
   "source": [
    "df['ocean_proximity'].value_counts()"
   ]
  },
  {
   "cell_type": "markdown",
   "metadata": {},
   "source": [
    "**1.3 Data Visualization**  \n",
    "- Utilize visual tools like scatter plots, histograms, and box plots to gain insights and identify patterns in the data.\n"
   ]
  },
  {
   "cell_type": "code",
   "execution_count": 86,
   "metadata": {},
   "outputs": [
    {
     "data": {
      "image/png": "[encoded data removed]",
      "text/plain": [
       "<Figure size 2000x1500 with 9 Axes>"
      ]
     },
     "metadata": {},
     "output_type": "display_data"
    }
   ],
   "source": [
    "#Plot the histogram of the data by ocean proximity and avg house value\n",
    "df.hist(bins=50, figsize=(20,15))\n",
    "plt.show()\n"
   ]
  },
  {
   "cell_type": "code",
   "execution_count": 87,
   "metadata": {},
   "outputs": [
    {
     "data": {
      "image/png": "[encoded data removed]",
      "text/plain": [
       "<Figure size 1000x600 with 1 Axes>"
      ]
     },
     "metadata": {},
     "output_type": "display_data"
    }
   ],
   "source": [
    "#plot to show the ocean proximity impact on the average house value\n",
    "plt.figure(figsize=(10,6))\n",
    "sns.boxplot(x='ocean_proximity', y='median_house_value', data=df)\n",
    "plt.show()\n"
   ]
  },
  {
   "cell_type": "code",
   "execution_count": 88,
   "metadata": {},
   "outputs": [
    {
     "name": "stderr",
     "output_type": "stream",
     "text": [
      "C:\\Users\\Legion 5\\AppData\\Local\\Temp\\ipykernel_24408\\2880257539.py:2: FutureWarning: The default value of numeric_only in DataFrame.corr is deprecated. In a future version, it will default to False. Select only valid columns or specify the value of numeric_only to silence this warning.\n",
      "  corr_matrix = df.corr()\n"
     ]
    },
    {
     "data": {
      "image/png": "[encoded data removed]",
      "text/plain": [
       "<Figure size 2000x1500 with 2 Axes>"
      ]
     },
     "metadata": {},
     "output_type": "display_data"
    }
   ],
   "source": [
    "#Plot correlation matrix\n",
    "corr_matrix = df.corr()\n",
    "plt.figure(figsize=(20,15))\n",
    "sns.heatmap(corr_matrix, annot=True, cmap='coolwarm')\n",
    "plt.show()\n"
   ]
  },
  {
   "cell_type": "code",
   "execution_count": null,
   "metadata": {},
   "outputs": [],
   "source": []
  },
  {
   "cell_type": "code",
   "execution_count": 89,
   "metadata": {},
   "outputs": [
    {
     "data": {
      "text/html": [
       "<div>\n",
       "<style scoped>\n",
       "    .dataframe tbody tr th:only-of-type {\n",
       "        vertical-align: middle;\n",
       "    }\n",
       "\n",
       "    .dataframe tbody tr th {\n",
       "        vertical-align: top;\n",
       "    }\n",
       "\n",
       "    .dataframe thead th {\n",
       "        text-align: right;\n",
       "    }\n",
       "</style>\n",
       "<table border=\"1\" class=\"dataframe\">\n",
       "  <thead>\n",
       "    <tr style=\"text-align: right;\">\n",
       "      <th></th>\n",
       "      <th>longitude</th>\n",
       "      <th>latitude</th>\n",
       "      <th>housing_median_age</th>\n",
       "      <th>total_rooms</th>\n",
       "      <th>total_bedrooms</th>\n",
       "      <th>population</th>\n",
       "      <th>households</th>\n",
       "      <th>median_income</th>\n",
       "      <th>median_house_value</th>\n",
       "      <th>ocean_proximity</th>\n",
       "    </tr>\n",
       "  </thead>\n",
       "  <tbody>\n",
       "    <tr>\n",
       "      <th>6715</th>\n",
       "      <td>-118.18</td>\n",
       "      <td>34.14</td>\n",
       "      <td>38.0</td>\n",
       "      <td>3039.0</td>\n",
       "      <td>487.0</td>\n",
       "      <td>1131.0</td>\n",
       "      <td>465.0</td>\n",
       "      <td>7.7116</td>\n",
       "      <td>360900.0</td>\n",
       "      <td>&lt;1H OCEAN</td>\n",
       "    </tr>\n",
       "    <tr>\n",
       "      <th>4121</th>\n",
       "      <td>-118.19</td>\n",
       "      <td>34.14</td>\n",
       "      <td>38.0</td>\n",
       "      <td>1826.0</td>\n",
       "      <td>300.0</td>\n",
       "      <td>793.0</td>\n",
       "      <td>297.0</td>\n",
       "      <td>5.2962</td>\n",
       "      <td>291500.0</td>\n",
       "      <td>&lt;1H OCEAN</td>\n",
       "    </tr>\n",
       "    <tr>\n",
       "      <th>15433</th>\n",
       "      <td>-117.25</td>\n",
       "      <td>33.20</td>\n",
       "      <td>10.0</td>\n",
       "      <td>2050.0</td>\n",
       "      <td>473.0</td>\n",
       "      <td>1302.0</td>\n",
       "      <td>471.0</td>\n",
       "      <td>2.7961</td>\n",
       "      <td>131300.0</td>\n",
       "      <td>&lt;1H OCEAN</td>\n",
       "    </tr>\n",
       "    <tr>\n",
       "      <th>20272</th>\n",
       "      <td>-119.23</td>\n",
       "      <td>34.19</td>\n",
       "      <td>16.0</td>\n",
       "      <td>5297.0</td>\n",
       "      <td>810.0</td>\n",
       "      <td>1489.0</td>\n",
       "      <td>667.0</td>\n",
       "      <td>6.4522</td>\n",
       "      <td>500001.0</td>\n",
       "      <td>NEAR OCEAN</td>\n",
       "    </tr>\n",
       "    <tr>\n",
       "      <th>11843</th>\n",
       "      <td>-120.93</td>\n",
       "      <td>39.96</td>\n",
       "      <td>15.0</td>\n",
       "      <td>1666.0</td>\n",
       "      <td>351.0</td>\n",
       "      <td>816.0</td>\n",
       "      <td>316.0</td>\n",
       "      <td>2.9559</td>\n",
       "      <td>118800.0</td>\n",
       "      <td>INLAND</td>\n",
       "    </tr>\n",
       "    <tr>\n",
       "      <th>...</th>\n",
       "      <td>...</td>\n",
       "      <td>...</td>\n",
       "      <td>...</td>\n",
       "      <td>...</td>\n",
       "      <td>...</td>\n",
       "      <td>...</td>\n",
       "      <td>...</td>\n",
       "      <td>...</td>\n",
       "      <td>...</td>\n",
       "      <td>...</td>\n",
       "    </tr>\n",
       "    <tr>\n",
       "      <th>11065</th>\n",
       "      <td>-117.88</td>\n",
       "      <td>33.79</td>\n",
       "      <td>32.0</td>\n",
       "      <td>1484.0</td>\n",
       "      <td>295.0</td>\n",
       "      <td>928.0</td>\n",
       "      <td>295.0</td>\n",
       "      <td>5.1418</td>\n",
       "      <td>190300.0</td>\n",
       "      <td>&lt;1H OCEAN</td>\n",
       "    </tr>\n",
       "    <tr>\n",
       "      <th>17455</th>\n",
       "      <td>-120.43</td>\n",
       "      <td>34.70</td>\n",
       "      <td>26.0</td>\n",
       "      <td>2353.0</td>\n",
       "      <td>389.0</td>\n",
       "      <td>1420.0</td>\n",
       "      <td>389.0</td>\n",
       "      <td>3.8700</td>\n",
       "      <td>125800.0</td>\n",
       "      <td>NEAR OCEAN</td>\n",
       "    </tr>\n",
       "    <tr>\n",
       "      <th>5249</th>\n",
       "      <td>-118.45</td>\n",
       "      <td>34.08</td>\n",
       "      <td>52.0</td>\n",
       "      <td>1500.0</td>\n",
       "      <td>176.0</td>\n",
       "      <td>384.0</td>\n",
       "      <td>145.0</td>\n",
       "      <td>7.1576</td>\n",
       "      <td>500001.0</td>\n",
       "      <td>&lt;1H OCEAN</td>\n",
       "    </tr>\n",
       "    <tr>\n",
       "      <th>12290</th>\n",
       "      <td>-116.97</td>\n",
       "      <td>33.94</td>\n",
       "      <td>29.0</td>\n",
       "      <td>3197.0</td>\n",
       "      <td>632.0</td>\n",
       "      <td>1722.0</td>\n",
       "      <td>603.0</td>\n",
       "      <td>3.0432</td>\n",
       "      <td>91200.0</td>\n",
       "      <td>INLAND</td>\n",
       "    </tr>\n",
       "    <tr>\n",
       "      <th>235</th>\n",
       "      <td>-122.20</td>\n",
       "      <td>37.79</td>\n",
       "      <td>35.0</td>\n",
       "      <td>1802.0</td>\n",
       "      <td>459.0</td>\n",
       "      <td>1009.0</td>\n",
       "      <td>390.0</td>\n",
       "      <td>2.3036</td>\n",
       "      <td>126000.0</td>\n",
       "      <td>NEAR BAY</td>\n",
       "    </tr>\n",
       "  </tbody>\n",
       "</table>\n",
       "<p>20433 rows × 10 columns</p>\n",
       "</div>"
      ],
      "text/plain": [
       "       longitude  latitude  housing_median_age  total_rooms  total_bedrooms  \\\n",
       "6715     -118.18     34.14                38.0       3039.0           487.0   \n",
       "4121     -118.19     34.14                38.0       1826.0           300.0   \n",
       "15433    -117.25     33.20                10.0       2050.0           473.0   \n",
       "20272    -119.23     34.19                16.0       5297.0           810.0   \n",
       "11843    -120.93     39.96                15.0       1666.0           351.0   \n",
       "...          ...       ...                 ...          ...             ...   \n",
       "11065    -117.88     33.79                32.0       1484.0           295.0   \n",
       "17455    -120.43     34.70                26.0       2353.0           389.0   \n",
       "5249     -118.45     34.08                52.0       1500.0           176.0   \n",
       "12290    -116.97     33.94                29.0       3197.0           632.0   \n",
       "235      -122.20     37.79                35.0       1802.0           459.0   \n",
       "\n",
       "       population  households  median_income  median_house_value  \\\n",
       "6715       1131.0       465.0         7.7116            360900.0   \n",
       "4121        793.0       297.0         5.2962            291500.0   \n",
       "15433      1302.0       471.0         2.7961            131300.0   \n",
       "20272      1489.0       667.0         6.4522            500001.0   \n",
       "11843       816.0       316.0         2.9559            118800.0   \n",
       "...           ...         ...            ...                 ...   \n",
       "11065       928.0       295.0         5.1418            190300.0   \n",
       "17455      1420.0       389.0         3.8700            125800.0   \n",
       "5249        384.0       145.0         7.1576            500001.0   \n",
       "12290      1722.0       603.0         3.0432             91200.0   \n",
       "235        1009.0       390.0         2.3036            126000.0   \n",
       "\n",
       "      ocean_proximity  \n",
       "6715        <1H OCEAN  \n",
       "4121        <1H OCEAN  \n",
       "15433       <1H OCEAN  \n",
       "20272      NEAR OCEAN  \n",
       "11843          INLAND  \n",
       "...               ...  \n",
       "11065       <1H OCEAN  \n",
       "17455      NEAR OCEAN  \n",
       "5249        <1H OCEAN  \n",
       "12290          INLAND  \n",
       "235          NEAR BAY  \n",
       "\n",
       "[20433 rows x 10 columns]"
      ]
     },
     "execution_count": 89,
     "metadata": {},
     "output_type": "execute_result"
    }
   ],
   "source": [
    "# Shuffle the rows of the DataFrame df while keeping the index intact.\n",
    "df_shuffled = df.sample(n=len(df), random_state=1)\n",
    "df_shuffled"
   ]
  },
  {
   "cell_type": "markdown",
   "metadata": {},
   "source": [
    "The code `df_shuffled = df.sample(n=len(df), random_state=1)` does the following:\n",
    "\n",
    "1. **`df`**: This is the name of a DataFrame in Pandas (a Python library for data analysis). `df` contains a table of data.\n",
    "\n",
    "2. **`sample()`**: This is a Pandas method used to randomly select rows (samples) from a DataFrame. It has several parameters:\n",
    "   - **`n=len(df)`**: This specifies that the number of rows to be randomly selected is equal to the total number of rows in the DataFrame `df`. In other words, you're sampling the entire DataFrame.\n",
    "   - **`random_state=1`**: This parameter ensures that the random selection is reproducible. Setting `random_state` to a specific value (e.g., `1`) ensures that you get the same shuffled result every time the code is run, making the process predictable for debugging or analysis purposes.\n",
    "\n",
    "3. **The result**: \n",
    "   - The DataFrame `df_shuffled` is a new version of `df`, where the rows have been randomly shuffled, but it still contains all the rows from the original DataFrame. The number of rows remains the same, but their order has changed.\n",
    "\n",
    "In summary, this code takes the DataFrame `df`, shuffles its rows in a random order, and stores the result in `df_shuffled`. The `random_state=1` ensures that the shuffling is consistent across multiple executions."
   ]
  },
  {
   "cell_type": "markdown",
   "metadata": {},
   "source": [
    "## **Chapter 2: Feature Engineering**"
   ]
  },
  {
   "cell_type": "markdown",
   "metadata": {},
   "source": [
    "**Introduction:**  \n",
    "Enhance your dataset by creating new features and scaling existing ones. Effective feature engineering can significantly improve model performance.\n"
   ]
  },
  {
   "cell_type": "code",
   "execution_count": 90,
   "metadata": {},
   "outputs": [
    {
     "data": {
      "text/html": [
       "<div>\n",
       "<style scoped>\n",
       "    .dataframe tbody tr th:only-of-type {\n",
       "        vertical-align: middle;\n",
       "    }\n",
       "\n",
       "    .dataframe tbody tr th {\n",
       "        vertical-align: top;\n",
       "    }\n",
       "\n",
       "    .dataframe thead th {\n",
       "        text-align: right;\n",
       "    }\n",
       "</style>\n",
       "<table border=\"1\" class=\"dataframe\">\n",
       "  <thead>\n",
       "    <tr style=\"text-align: right;\">\n",
       "      <th></th>\n",
       "      <th>&lt;1H OCEAN</th>\n",
       "      <th>INLAND</th>\n",
       "      <th>ISLAND</th>\n",
       "      <th>NEAR BAY</th>\n",
       "      <th>NEAR OCEAN</th>\n",
       "    </tr>\n",
       "  </thead>\n",
       "  <tbody>\n",
       "    <tr>\n",
       "      <th>6715</th>\n",
       "      <td>1</td>\n",
       "      <td>0</td>\n",
       "      <td>0</td>\n",
       "      <td>0</td>\n",
       "      <td>0</td>\n",
       "    </tr>\n",
       "    <tr>\n",
       "      <th>4121</th>\n",
       "      <td>1</td>\n",
       "      <td>0</td>\n",
       "      <td>0</td>\n",
       "      <td>0</td>\n",
       "      <td>0</td>\n",
       "    </tr>\n",
       "    <tr>\n",
       "      <th>15433</th>\n",
       "      <td>1</td>\n",
       "      <td>0</td>\n",
       "      <td>0</td>\n",
       "      <td>0</td>\n",
       "      <td>0</td>\n",
       "    </tr>\n",
       "    <tr>\n",
       "      <th>20272</th>\n",
       "      <td>0</td>\n",
       "      <td>0</td>\n",
       "      <td>0</td>\n",
       "      <td>0</td>\n",
       "      <td>1</td>\n",
       "    </tr>\n",
       "    <tr>\n",
       "      <th>11843</th>\n",
       "      <td>0</td>\n",
       "      <td>1</td>\n",
       "      <td>0</td>\n",
       "      <td>0</td>\n",
       "      <td>0</td>\n",
       "    </tr>\n",
       "  </tbody>\n",
       "</table>\n",
       "</div>"
      ],
      "text/plain": [
       "       <1H OCEAN  INLAND  ISLAND  NEAR BAY  NEAR OCEAN\n",
       "6715           1       0       0         0           0\n",
       "4121           1       0       0         0           0\n",
       "15433          1       0       0         0           0\n",
       "20272          0       0       0         0           1\n",
       "11843          0       1       0         0           0"
      ]
     },
     "execution_count": 90,
     "metadata": {},
     "output_type": "execute_result"
    }
   ],
   "source": [
    "# Convert the 'ocean_proximity' column of the shuffled DataFrame into one-hot encoded variables.\n",
    "# Each unique value in the 'ocean_proximity' column will be transformed into a new binary column.\n",
    "# The first 5 rows of the resulting DataFrame are displayed using the 'head()' method.\n",
    "pd.get_dummies(df_shuffled['ocean_proximity']).head()"
   ]
  },
  {
   "cell_type": "code",
   "execution_count": 91,
   "metadata": {},
   "outputs": [
    {
     "data": {
      "text/html": [
       "<div>\n",
       "<style scoped>\n",
       "    .dataframe tbody tr th:only-of-type {\n",
       "        vertical-align: middle;\n",
       "    }\n",
       "\n",
       "    .dataframe tbody tr th {\n",
       "        vertical-align: top;\n",
       "    }\n",
       "\n",
       "    .dataframe thead th {\n",
       "        text-align: right;\n",
       "    }\n",
       "</style>\n",
       "<table border=\"1\" class=\"dataframe\">\n",
       "  <thead>\n",
       "    <tr style=\"text-align: right;\">\n",
       "      <th></th>\n",
       "      <th>longitude</th>\n",
       "      <th>latitude</th>\n",
       "      <th>housing_median_age</th>\n",
       "      <th>total_rooms</th>\n",
       "      <th>total_bedrooms</th>\n",
       "      <th>population</th>\n",
       "      <th>households</th>\n",
       "      <th>median_income</th>\n",
       "      <th>median_house_value</th>\n",
       "      <th>ocean_proximity</th>\n",
       "    </tr>\n",
       "  </thead>\n",
       "  <tbody>\n",
       "    <tr>\n",
       "      <th>6715</th>\n",
       "      <td>-118.18</td>\n",
       "      <td>34.14</td>\n",
       "      <td>38.0</td>\n",
       "      <td>3039.0</td>\n",
       "      <td>487.0</td>\n",
       "      <td>1131.0</td>\n",
       "      <td>465.0</td>\n",
       "      <td>7.7116</td>\n",
       "      <td>360900.0</td>\n",
       "      <td>&lt;1H OCEAN</td>\n",
       "    </tr>\n",
       "    <tr>\n",
       "      <th>4121</th>\n",
       "      <td>-118.19</td>\n",
       "      <td>34.14</td>\n",
       "      <td>38.0</td>\n",
       "      <td>1826.0</td>\n",
       "      <td>300.0</td>\n",
       "      <td>793.0</td>\n",
       "      <td>297.0</td>\n",
       "      <td>5.2962</td>\n",
       "      <td>291500.0</td>\n",
       "      <td>&lt;1H OCEAN</td>\n",
       "    </tr>\n",
       "    <tr>\n",
       "      <th>15433</th>\n",
       "      <td>-117.25</td>\n",
       "      <td>33.20</td>\n",
       "      <td>10.0</td>\n",
       "      <td>2050.0</td>\n",
       "      <td>473.0</td>\n",
       "      <td>1302.0</td>\n",
       "      <td>471.0</td>\n",
       "      <td>2.7961</td>\n",
       "      <td>131300.0</td>\n",
       "      <td>&lt;1H OCEAN</td>\n",
       "    </tr>\n",
       "    <tr>\n",
       "      <th>20272</th>\n",
       "      <td>-119.23</td>\n",
       "      <td>34.19</td>\n",
       "      <td>16.0</td>\n",
       "      <td>5297.0</td>\n",
       "      <td>810.0</td>\n",
       "      <td>1489.0</td>\n",
       "      <td>667.0</td>\n",
       "      <td>6.4522</td>\n",
       "      <td>500001.0</td>\n",
       "      <td>NEAR OCEAN</td>\n",
       "    </tr>\n",
       "    <tr>\n",
       "      <th>11843</th>\n",
       "      <td>-120.93</td>\n",
       "      <td>39.96</td>\n",
       "      <td>15.0</td>\n",
       "      <td>1666.0</td>\n",
       "      <td>351.0</td>\n",
       "      <td>816.0</td>\n",
       "      <td>316.0</td>\n",
       "      <td>2.9559</td>\n",
       "      <td>118800.0</td>\n",
       "      <td>INLAND</td>\n",
       "    </tr>\n",
       "    <tr>\n",
       "      <th>...</th>\n",
       "      <td>...</td>\n",
       "      <td>...</td>\n",
       "      <td>...</td>\n",
       "      <td>...</td>\n",
       "      <td>...</td>\n",
       "      <td>...</td>\n",
       "      <td>...</td>\n",
       "      <td>...</td>\n",
       "      <td>...</td>\n",
       "      <td>...</td>\n",
       "    </tr>\n",
       "    <tr>\n",
       "      <th>11065</th>\n",
       "      <td>-117.88</td>\n",
       "      <td>33.79</td>\n",
       "      <td>32.0</td>\n",
       "      <td>1484.0</td>\n",
       "      <td>295.0</td>\n",
       "      <td>928.0</td>\n",
       "      <td>295.0</td>\n",
       "      <td>5.1418</td>\n",
       "      <td>190300.0</td>\n",
       "      <td>&lt;1H OCEAN</td>\n",
       "    </tr>\n",
       "    <tr>\n",
       "      <th>17455</th>\n",
       "      <td>-120.43</td>\n",
       "      <td>34.70</td>\n",
       "      <td>26.0</td>\n",
       "      <td>2353.0</td>\n",
       "      <td>389.0</td>\n",
       "      <td>1420.0</td>\n",
       "      <td>389.0</td>\n",
       "      <td>3.8700</td>\n",
       "      <td>125800.0</td>\n",
       "      <td>NEAR OCEAN</td>\n",
       "    </tr>\n",
       "    <tr>\n",
       "      <th>5249</th>\n",
       "      <td>-118.45</td>\n",
       "      <td>34.08</td>\n",
       "      <td>52.0</td>\n",
       "      <td>1500.0</td>\n",
       "      <td>176.0</td>\n",
       "      <td>384.0</td>\n",
       "      <td>145.0</td>\n",
       "      <td>7.1576</td>\n",
       "      <td>500001.0</td>\n",
       "      <td>&lt;1H OCEAN</td>\n",
       "    </tr>\n",
       "    <tr>\n",
       "      <th>12290</th>\n",
       "      <td>-116.97</td>\n",
       "      <td>33.94</td>\n",
       "      <td>29.0</td>\n",
       "      <td>3197.0</td>\n",
       "      <td>632.0</td>\n",
       "      <td>1722.0</td>\n",
       "      <td>603.0</td>\n",
       "      <td>3.0432</td>\n",
       "      <td>91200.0</td>\n",
       "      <td>INLAND</td>\n",
       "    </tr>\n",
       "    <tr>\n",
       "      <th>235</th>\n",
       "      <td>-122.20</td>\n",
       "      <td>37.79</td>\n",
       "      <td>35.0</td>\n",
       "      <td>1802.0</td>\n",
       "      <td>459.0</td>\n",
       "      <td>1009.0</td>\n",
       "      <td>390.0</td>\n",
       "      <td>2.3036</td>\n",
       "      <td>126000.0</td>\n",
       "      <td>NEAR BAY</td>\n",
       "    </tr>\n",
       "  </tbody>\n",
       "</table>\n",
       "<p>20433 rows × 10 columns</p>\n",
       "</div>"
      ],
      "text/plain": [
       "       longitude  latitude  housing_median_age  total_rooms  total_bedrooms  \\\n",
       "6715     -118.18     34.14                38.0       3039.0           487.0   \n",
       "4121     -118.19     34.14                38.0       1826.0           300.0   \n",
       "15433    -117.25     33.20                10.0       2050.0           473.0   \n",
       "20272    -119.23     34.19                16.0       5297.0           810.0   \n",
       "11843    -120.93     39.96                15.0       1666.0           351.0   \n",
       "...          ...       ...                 ...          ...             ...   \n",
       "11065    -117.88     33.79                32.0       1484.0           295.0   \n",
       "17455    -120.43     34.70                26.0       2353.0           389.0   \n",
       "5249     -118.45     34.08                52.0       1500.0           176.0   \n",
       "12290    -116.97     33.94                29.0       3197.0           632.0   \n",
       "235      -122.20     37.79                35.0       1802.0           459.0   \n",
       "\n",
       "       population  households  median_income  median_house_value  \\\n",
       "6715       1131.0       465.0         7.7116            360900.0   \n",
       "4121        793.0       297.0         5.2962            291500.0   \n",
       "15433      1302.0       471.0         2.7961            131300.0   \n",
       "20272      1489.0       667.0         6.4522            500001.0   \n",
       "11843       816.0       316.0         2.9559            118800.0   \n",
       "...           ...         ...            ...                 ...   \n",
       "11065       928.0       295.0         5.1418            190300.0   \n",
       "17455      1420.0       389.0         3.8700            125800.0   \n",
       "5249        384.0       145.0         7.1576            500001.0   \n",
       "12290      1722.0       603.0         3.0432             91200.0   \n",
       "235        1009.0       390.0         2.3036            126000.0   \n",
       "\n",
       "      ocean_proximity  \n",
       "6715        <1H OCEAN  \n",
       "4121        <1H OCEAN  \n",
       "15433       <1H OCEAN  \n",
       "20272      NEAR OCEAN  \n",
       "11843          INLAND  \n",
       "...               ...  \n",
       "11065       <1H OCEAN  \n",
       "17455      NEAR OCEAN  \n",
       "5249        <1H OCEAN  \n",
       "12290          INLAND  \n",
       "235          NEAR BAY  \n",
       "\n",
       "[20433 rows x 10 columns]"
      ]
     },
     "execution_count": 91,
     "metadata": {},
     "output_type": "execute_result"
    }
   ],
   "source": [
    "df_shuffled"
   ]
  },
  {
   "cell_type": "code",
   "execution_count": 92,
   "metadata": {},
   "outputs": [
    {
     "data": {
      "text/html": [
       "<div>\n",
       "<style scoped>\n",
       "    .dataframe tbody tr th:only-of-type {\n",
       "        vertical-align: middle;\n",
       "    }\n",
       "\n",
       "    .dataframe tbody tr th {\n",
       "        vertical-align: top;\n",
       "    }\n",
       "\n",
       "    .dataframe thead th {\n",
       "        text-align: right;\n",
       "    }\n",
       "</style>\n",
       "<table border=\"1\" class=\"dataframe\">\n",
       "  <thead>\n",
       "    <tr style=\"text-align: right;\">\n",
       "      <th></th>\n",
       "      <th>longitude</th>\n",
       "      <th>latitude</th>\n",
       "      <th>housing_median_age</th>\n",
       "      <th>total_rooms</th>\n",
       "      <th>total_bedrooms</th>\n",
       "      <th>population</th>\n",
       "      <th>households</th>\n",
       "      <th>median_income</th>\n",
       "      <th>median_house_value</th>\n",
       "    </tr>\n",
       "  </thead>\n",
       "  <tbody>\n",
       "    <tr>\n",
       "      <th>6715</th>\n",
       "      <td>-118.18</td>\n",
       "      <td>34.14</td>\n",
       "      <td>38.0</td>\n",
       "      <td>3039.0</td>\n",
       "      <td>487.0</td>\n",
       "      <td>1131.0</td>\n",
       "      <td>465.0</td>\n",
       "      <td>7.7116</td>\n",
       "      <td>360900.0</td>\n",
       "    </tr>\n",
       "    <tr>\n",
       "      <th>4121</th>\n",
       "      <td>-118.19</td>\n",
       "      <td>34.14</td>\n",
       "      <td>38.0</td>\n",
       "      <td>1826.0</td>\n",
       "      <td>300.0</td>\n",
       "      <td>793.0</td>\n",
       "      <td>297.0</td>\n",
       "      <td>5.2962</td>\n",
       "      <td>291500.0</td>\n",
       "    </tr>\n",
       "    <tr>\n",
       "      <th>15433</th>\n",
       "      <td>-117.25</td>\n",
       "      <td>33.20</td>\n",
       "      <td>10.0</td>\n",
       "      <td>2050.0</td>\n",
       "      <td>473.0</td>\n",
       "      <td>1302.0</td>\n",
       "      <td>471.0</td>\n",
       "      <td>2.7961</td>\n",
       "      <td>131300.0</td>\n",
       "    </tr>\n",
       "    <tr>\n",
       "      <th>20272</th>\n",
       "      <td>-119.23</td>\n",
       "      <td>34.19</td>\n",
       "      <td>16.0</td>\n",
       "      <td>5297.0</td>\n",
       "      <td>810.0</td>\n",
       "      <td>1489.0</td>\n",
       "      <td>667.0</td>\n",
       "      <td>6.4522</td>\n",
       "      <td>500001.0</td>\n",
       "    </tr>\n",
       "    <tr>\n",
       "      <th>11843</th>\n",
       "      <td>-120.93</td>\n",
       "      <td>39.96</td>\n",
       "      <td>15.0</td>\n",
       "      <td>1666.0</td>\n",
       "      <td>351.0</td>\n",
       "      <td>816.0</td>\n",
       "      <td>316.0</td>\n",
       "      <td>2.9559</td>\n",
       "      <td>118800.0</td>\n",
       "    </tr>\n",
       "  </tbody>\n",
       "</table>\n",
       "</div>"
      ],
      "text/plain": [
       "       longitude  latitude  housing_median_age  total_rooms  total_bedrooms  \\\n",
       "6715     -118.18     34.14                38.0       3039.0           487.0   \n",
       "4121     -118.19     34.14                38.0       1826.0           300.0   \n",
       "15433    -117.25     33.20                10.0       2050.0           473.0   \n",
       "20272    -119.23     34.19                16.0       5297.0           810.0   \n",
       "11843    -120.93     39.96                15.0       1666.0           351.0   \n",
       "\n",
       "       population  households  median_income  median_house_value  \n",
       "6715       1131.0       465.0         7.7116            360900.0  \n",
       "4121        793.0       297.0         5.2962            291500.0  \n",
       "15433      1302.0       471.0         2.7961            131300.0  \n",
       "20272      1489.0       667.0         6.4522            500001.0  \n",
       "11843       816.0       316.0         2.9559            118800.0  "
      ]
     },
     "execution_count": 92,
     "metadata": {},
     "output_type": "execute_result"
    }
   ],
   "source": [
    "# Drops the 'ocean_proximity' column from the DataFrame 'df_shuffled'\n",
    "# 'axis=1' specifies that a column is being dropped (axis=0 would refer to rows)\n",
    "# .head() returns the first 5 rows of the modified DataFrame (without 'ocean_proximity')\n",
    "df_shuffled.drop('ocean_proximity', axis=1).head()"
   ]
  },
  {
   "cell_type": "code",
   "execution_count": 93,
   "metadata": {},
   "outputs": [
    {
     "data": {
      "text/html": [
       "<div>\n",
       "<style scoped>\n",
       "    .dataframe tbody tr th:only-of-type {\n",
       "        vertical-align: middle;\n",
       "    }\n",
       "\n",
       "    .dataframe tbody tr th {\n",
       "        vertical-align: top;\n",
       "    }\n",
       "\n",
       "    .dataframe thead th {\n",
       "        text-align: right;\n",
       "    }\n",
       "</style>\n",
       "<table border=\"1\" class=\"dataframe\">\n",
       "  <thead>\n",
       "    <tr style=\"text-align: right;\">\n",
       "      <th></th>\n",
       "      <th>longitude</th>\n",
       "      <th>latitude</th>\n",
       "      <th>housing_median_age</th>\n",
       "      <th>total_rooms</th>\n",
       "      <th>total_bedrooms</th>\n",
       "      <th>population</th>\n",
       "      <th>households</th>\n",
       "      <th>median_income</th>\n",
       "      <th>median_house_value</th>\n",
       "      <th>ocean_proximity</th>\n",
       "    </tr>\n",
       "  </thead>\n",
       "  <tbody>\n",
       "    <tr>\n",
       "      <th>6715</th>\n",
       "      <td>-118.18</td>\n",
       "      <td>34.14</td>\n",
       "      <td>38.0</td>\n",
       "      <td>3039.0</td>\n",
       "      <td>487.0</td>\n",
       "      <td>1131.0</td>\n",
       "      <td>465.0</td>\n",
       "      <td>7.7116</td>\n",
       "      <td>360900.0</td>\n",
       "      <td>&lt;1H OCEAN</td>\n",
       "    </tr>\n",
       "    <tr>\n",
       "      <th>4121</th>\n",
       "      <td>-118.19</td>\n",
       "      <td>34.14</td>\n",
       "      <td>38.0</td>\n",
       "      <td>1826.0</td>\n",
       "      <td>300.0</td>\n",
       "      <td>793.0</td>\n",
       "      <td>297.0</td>\n",
       "      <td>5.2962</td>\n",
       "      <td>291500.0</td>\n",
       "      <td>&lt;1H OCEAN</td>\n",
       "    </tr>\n",
       "    <tr>\n",
       "      <th>15433</th>\n",
       "      <td>-117.25</td>\n",
       "      <td>33.20</td>\n",
       "      <td>10.0</td>\n",
       "      <td>2050.0</td>\n",
       "      <td>473.0</td>\n",
       "      <td>1302.0</td>\n",
       "      <td>471.0</td>\n",
       "      <td>2.7961</td>\n",
       "      <td>131300.0</td>\n",
       "      <td>&lt;1H OCEAN</td>\n",
       "    </tr>\n",
       "    <tr>\n",
       "      <th>20272</th>\n",
       "      <td>-119.23</td>\n",
       "      <td>34.19</td>\n",
       "      <td>16.0</td>\n",
       "      <td>5297.0</td>\n",
       "      <td>810.0</td>\n",
       "      <td>1489.0</td>\n",
       "      <td>667.0</td>\n",
       "      <td>6.4522</td>\n",
       "      <td>500001.0</td>\n",
       "      <td>NEAR OCEAN</td>\n",
       "    </tr>\n",
       "    <tr>\n",
       "      <th>11843</th>\n",
       "      <td>-120.93</td>\n",
       "      <td>39.96</td>\n",
       "      <td>15.0</td>\n",
       "      <td>1666.0</td>\n",
       "      <td>351.0</td>\n",
       "      <td>816.0</td>\n",
       "      <td>316.0</td>\n",
       "      <td>2.9559</td>\n",
       "      <td>118800.0</td>\n",
       "      <td>INLAND</td>\n",
       "    </tr>\n",
       "    <tr>\n",
       "      <th>...</th>\n",
       "      <td>...</td>\n",
       "      <td>...</td>\n",
       "      <td>...</td>\n",
       "      <td>...</td>\n",
       "      <td>...</td>\n",
       "      <td>...</td>\n",
       "      <td>...</td>\n",
       "      <td>...</td>\n",
       "      <td>...</td>\n",
       "      <td>...</td>\n",
       "    </tr>\n",
       "    <tr>\n",
       "      <th>11065</th>\n",
       "      <td>-117.88</td>\n",
       "      <td>33.79</td>\n",
       "      <td>32.0</td>\n",
       "      <td>1484.0</td>\n",
       "      <td>295.0</td>\n",
       "      <td>928.0</td>\n",
       "      <td>295.0</td>\n",
       "      <td>5.1418</td>\n",
       "      <td>190300.0</td>\n",
       "      <td>&lt;1H OCEAN</td>\n",
       "    </tr>\n",
       "    <tr>\n",
       "      <th>17455</th>\n",
       "      <td>-120.43</td>\n",
       "      <td>34.70</td>\n",
       "      <td>26.0</td>\n",
       "      <td>2353.0</td>\n",
       "      <td>389.0</td>\n",
       "      <td>1420.0</td>\n",
       "      <td>389.0</td>\n",
       "      <td>3.8700</td>\n",
       "      <td>125800.0</td>\n",
       "      <td>NEAR OCEAN</td>\n",
       "    </tr>\n",
       "    <tr>\n",
       "      <th>5249</th>\n",
       "      <td>-118.45</td>\n",
       "      <td>34.08</td>\n",
       "      <td>52.0</td>\n",
       "      <td>1500.0</td>\n",
       "      <td>176.0</td>\n",
       "      <td>384.0</td>\n",
       "      <td>145.0</td>\n",
       "      <td>7.1576</td>\n",
       "      <td>500001.0</td>\n",
       "      <td>&lt;1H OCEAN</td>\n",
       "    </tr>\n",
       "    <tr>\n",
       "      <th>12290</th>\n",
       "      <td>-116.97</td>\n",
       "      <td>33.94</td>\n",
       "      <td>29.0</td>\n",
       "      <td>3197.0</td>\n",
       "      <td>632.0</td>\n",
       "      <td>1722.0</td>\n",
       "      <td>603.0</td>\n",
       "      <td>3.0432</td>\n",
       "      <td>91200.0</td>\n",
       "      <td>INLAND</td>\n",
       "    </tr>\n",
       "    <tr>\n",
       "      <th>235</th>\n",
       "      <td>-122.20</td>\n",
       "      <td>37.79</td>\n",
       "      <td>35.0</td>\n",
       "      <td>1802.0</td>\n",
       "      <td>459.0</td>\n",
       "      <td>1009.0</td>\n",
       "      <td>390.0</td>\n",
       "      <td>2.3036</td>\n",
       "      <td>126000.0</td>\n",
       "      <td>NEAR BAY</td>\n",
       "    </tr>\n",
       "  </tbody>\n",
       "</table>\n",
       "<p>20433 rows × 10 columns</p>\n",
       "</div>"
      ],
      "text/plain": [
       "       longitude  latitude  housing_median_age  total_rooms  total_bedrooms  \\\n",
       "6715     -118.18     34.14                38.0       3039.0           487.0   \n",
       "4121     -118.19     34.14                38.0       1826.0           300.0   \n",
       "15433    -117.25     33.20                10.0       2050.0           473.0   \n",
       "20272    -119.23     34.19                16.0       5297.0           810.0   \n",
       "11843    -120.93     39.96                15.0       1666.0           351.0   \n",
       "...          ...       ...                 ...          ...             ...   \n",
       "11065    -117.88     33.79                32.0       1484.0           295.0   \n",
       "17455    -120.43     34.70                26.0       2353.0           389.0   \n",
       "5249     -118.45     34.08                52.0       1500.0           176.0   \n",
       "12290    -116.97     33.94                29.0       3197.0           632.0   \n",
       "235      -122.20     37.79                35.0       1802.0           459.0   \n",
       "\n",
       "       population  households  median_income  median_house_value  \\\n",
       "6715       1131.0       465.0         7.7116            360900.0   \n",
       "4121        793.0       297.0         5.2962            291500.0   \n",
       "15433      1302.0       471.0         2.7961            131300.0   \n",
       "20272      1489.0       667.0         6.4522            500001.0   \n",
       "11843       816.0       316.0         2.9559            118800.0   \n",
       "...           ...         ...            ...                 ...   \n",
       "11065       928.0       295.0         5.1418            190300.0   \n",
       "17455      1420.0       389.0         3.8700            125800.0   \n",
       "5249        384.0       145.0         7.1576            500001.0   \n",
       "12290      1722.0       603.0         3.0432             91200.0   \n",
       "235        1009.0       390.0         2.3036            126000.0   \n",
       "\n",
       "      ocean_proximity  \n",
       "6715        <1H OCEAN  \n",
       "4121        <1H OCEAN  \n",
       "15433       <1H OCEAN  \n",
       "20272      NEAR OCEAN  \n",
       "11843          INLAND  \n",
       "...               ...  \n",
       "11065       <1H OCEAN  \n",
       "17455      NEAR OCEAN  \n",
       "5249        <1H OCEAN  \n",
       "12290          INLAND  \n",
       "235          NEAR BAY  \n",
       "\n",
       "[20433 rows x 10 columns]"
      ]
     },
     "execution_count": 93,
     "metadata": {},
     "output_type": "execute_result"
    }
   ],
   "source": [
    "df_shuffled"
   ]
  },
  {
   "cell_type": "code",
   "execution_count": 94,
   "metadata": {},
   "outputs": [
    {
     "data": {
      "text/html": [
       "<div>\n",
       "<style scoped>\n",
       "    .dataframe tbody tr th:only-of-type {\n",
       "        vertical-align: middle;\n",
       "    }\n",
       "\n",
       "    .dataframe tbody tr th {\n",
       "        vertical-align: top;\n",
       "    }\n",
       "\n",
       "    .dataframe thead th {\n",
       "        text-align: right;\n",
       "    }\n",
       "</style>\n",
       "<table border=\"1\" class=\"dataframe\">\n",
       "  <thead>\n",
       "    <tr style=\"text-align: right;\">\n",
       "      <th></th>\n",
       "      <th>longitude</th>\n",
       "      <th>latitude</th>\n",
       "      <th>housing_median_age</th>\n",
       "      <th>total_rooms</th>\n",
       "      <th>total_bedrooms</th>\n",
       "      <th>population</th>\n",
       "      <th>households</th>\n",
       "      <th>median_income</th>\n",
       "      <th>median_house_value</th>\n",
       "      <th>&lt;1H OCEAN</th>\n",
       "      <th>INLAND</th>\n",
       "      <th>ISLAND</th>\n",
       "      <th>NEAR BAY</th>\n",
       "      <th>NEAR OCEAN</th>\n",
       "    </tr>\n",
       "  </thead>\n",
       "  <tbody>\n",
       "    <tr>\n",
       "      <th>6715</th>\n",
       "      <td>-118.18</td>\n",
       "      <td>34.14</td>\n",
       "      <td>38.0</td>\n",
       "      <td>3039.0</td>\n",
       "      <td>487.0</td>\n",
       "      <td>1131.0</td>\n",
       "      <td>465.0</td>\n",
       "      <td>7.7116</td>\n",
       "      <td>360900.0</td>\n",
       "      <td>1</td>\n",
       "      <td>0</td>\n",
       "      <td>0</td>\n",
       "      <td>0</td>\n",
       "      <td>0</td>\n",
       "    </tr>\n",
       "    <tr>\n",
       "      <th>4121</th>\n",
       "      <td>-118.19</td>\n",
       "      <td>34.14</td>\n",
       "      <td>38.0</td>\n",
       "      <td>1826.0</td>\n",
       "      <td>300.0</td>\n",
       "      <td>793.0</td>\n",
       "      <td>297.0</td>\n",
       "      <td>5.2962</td>\n",
       "      <td>291500.0</td>\n",
       "      <td>1</td>\n",
       "      <td>0</td>\n",
       "      <td>0</td>\n",
       "      <td>0</td>\n",
       "      <td>0</td>\n",
       "    </tr>\n",
       "    <tr>\n",
       "      <th>15433</th>\n",
       "      <td>-117.25</td>\n",
       "      <td>33.20</td>\n",
       "      <td>10.0</td>\n",
       "      <td>2050.0</td>\n",
       "      <td>473.0</td>\n",
       "      <td>1302.0</td>\n",
       "      <td>471.0</td>\n",
       "      <td>2.7961</td>\n",
       "      <td>131300.0</td>\n",
       "      <td>1</td>\n",
       "      <td>0</td>\n",
       "      <td>0</td>\n",
       "      <td>0</td>\n",
       "      <td>0</td>\n",
       "    </tr>\n",
       "    <tr>\n",
       "      <th>20272</th>\n",
       "      <td>-119.23</td>\n",
       "      <td>34.19</td>\n",
       "      <td>16.0</td>\n",
       "      <td>5297.0</td>\n",
       "      <td>810.0</td>\n",
       "      <td>1489.0</td>\n",
       "      <td>667.0</td>\n",
       "      <td>6.4522</td>\n",
       "      <td>500001.0</td>\n",
       "      <td>0</td>\n",
       "      <td>0</td>\n",
       "      <td>0</td>\n",
       "      <td>0</td>\n",
       "      <td>1</td>\n",
       "    </tr>\n",
       "    <tr>\n",
       "      <th>11843</th>\n",
       "      <td>-120.93</td>\n",
       "      <td>39.96</td>\n",
       "      <td>15.0</td>\n",
       "      <td>1666.0</td>\n",
       "      <td>351.0</td>\n",
       "      <td>816.0</td>\n",
       "      <td>316.0</td>\n",
       "      <td>2.9559</td>\n",
       "      <td>118800.0</td>\n",
       "      <td>0</td>\n",
       "      <td>1</td>\n",
       "      <td>0</td>\n",
       "      <td>0</td>\n",
       "      <td>0</td>\n",
       "    </tr>\n",
       "  </tbody>\n",
       "</table>\n",
       "</div>"
      ],
      "text/plain": [
       "       longitude  latitude  housing_median_age  total_rooms  total_bedrooms  \\\n",
       "6715     -118.18     34.14                38.0       3039.0           487.0   \n",
       "4121     -118.19     34.14                38.0       1826.0           300.0   \n",
       "15433    -117.25     33.20                10.0       2050.0           473.0   \n",
       "20272    -119.23     34.19                16.0       5297.0           810.0   \n",
       "11843    -120.93     39.96                15.0       1666.0           351.0   \n",
       "\n",
       "       population  households  median_income  median_house_value  <1H OCEAN  \\\n",
       "6715       1131.0       465.0         7.7116            360900.0          1   \n",
       "4121        793.0       297.0         5.2962            291500.0          1   \n",
       "15433      1302.0       471.0         2.7961            131300.0          1   \n",
       "20272      1489.0       667.0         6.4522            500001.0          0   \n",
       "11843       816.0       316.0         2.9559            118800.0          0   \n",
       "\n",
       "       INLAND  ISLAND  NEAR BAY  NEAR OCEAN  \n",
       "6715        0       0         0           0  \n",
       "4121        0       0         0           0  \n",
       "15433       0       0         0           0  \n",
       "20272       0       0         0           1  \n",
       "11843       1       0         0           0  "
      ]
     },
     "execution_count": 94,
     "metadata": {},
     "output_type": "execute_result"
    }
   ],
   "source": [
    "# Drops the 'ocean_proximity' column from 'df_shuffled' \n",
    "#  (removing it so it can be replaced by dummy variables)\n",
    "# Uses 'pd.get_dummies()' to convert the 'ocean_proximity' column into one-hot encoded columns\n",
    "# This creates a separate binary column for each unique category in 'ocean_proximity'\n",
    "# Concatenates (combines) the resulting DataFrame without 'ocean_proximity' and the one-hot encoded columns\n",
    "# 'axis=1' ensures the concatenation is along the columns (adding new columns to the DataFrame)\n",
    "# The 'df_final.head()' function shows the first 5 rows of the newly combined DataFrame\n",
    "df_final= pd.concat([df_shuffled.drop('ocean_proximity', axis=1),\n",
    "                     pd.get_dummies(df_shuffled['ocean_proximity'])], axis=1)\n",
    "df_final.head()"
   ]
  },
  {
   "cell_type": "code",
   "execution_count": 95,
   "metadata": {},
   "outputs": [
    {
     "data": {
      "text/html": [
       "<div>\n",
       "<style scoped>\n",
       "    .dataframe tbody tr th:only-of-type {\n",
       "        vertical-align: middle;\n",
       "    }\n",
       "\n",
       "    .dataframe tbody tr th {\n",
       "        vertical-align: top;\n",
       "    }\n",
       "\n",
       "    .dataframe thead th {\n",
       "        text-align: right;\n",
       "    }\n",
       "</style>\n",
       "<table border=\"1\" class=\"dataframe\">\n",
       "  <thead>\n",
       "    <tr style=\"text-align: right;\">\n",
       "      <th></th>\n",
       "      <th>longitude</th>\n",
       "      <th>latitude</th>\n",
       "      <th>housing_median_age</th>\n",
       "      <th>total_rooms</th>\n",
       "      <th>total_bedrooms</th>\n",
       "      <th>population</th>\n",
       "      <th>households</th>\n",
       "      <th>median_income</th>\n",
       "      <th>&lt;1H OCEAN</th>\n",
       "      <th>INLAND</th>\n",
       "      <th>ISLAND</th>\n",
       "      <th>NEAR BAY</th>\n",
       "      <th>NEAR OCEAN</th>\n",
       "      <th>median_house_value</th>\n",
       "    </tr>\n",
       "  </thead>\n",
       "  <tbody>\n",
       "    <tr>\n",
       "      <th>6715</th>\n",
       "      <td>-118.18</td>\n",
       "      <td>34.14</td>\n",
       "      <td>38.0</td>\n",
       "      <td>3039.0</td>\n",
       "      <td>487.0</td>\n",
       "      <td>1131.0</td>\n",
       "      <td>465.0</td>\n",
       "      <td>7.7116</td>\n",
       "      <td>1</td>\n",
       "      <td>0</td>\n",
       "      <td>0</td>\n",
       "      <td>0</td>\n",
       "      <td>0</td>\n",
       "      <td>360900.0</td>\n",
       "    </tr>\n",
       "    <tr>\n",
       "      <th>4121</th>\n",
       "      <td>-118.19</td>\n",
       "      <td>34.14</td>\n",
       "      <td>38.0</td>\n",
       "      <td>1826.0</td>\n",
       "      <td>300.0</td>\n",
       "      <td>793.0</td>\n",
       "      <td>297.0</td>\n",
       "      <td>5.2962</td>\n",
       "      <td>1</td>\n",
       "      <td>0</td>\n",
       "      <td>0</td>\n",
       "      <td>0</td>\n",
       "      <td>0</td>\n",
       "      <td>291500.0</td>\n",
       "    </tr>\n",
       "    <tr>\n",
       "      <th>15433</th>\n",
       "      <td>-117.25</td>\n",
       "      <td>33.20</td>\n",
       "      <td>10.0</td>\n",
       "      <td>2050.0</td>\n",
       "      <td>473.0</td>\n",
       "      <td>1302.0</td>\n",
       "      <td>471.0</td>\n",
       "      <td>2.7961</td>\n",
       "      <td>1</td>\n",
       "      <td>0</td>\n",
       "      <td>0</td>\n",
       "      <td>0</td>\n",
       "      <td>0</td>\n",
       "      <td>131300.0</td>\n",
       "    </tr>\n",
       "    <tr>\n",
       "      <th>20272</th>\n",
       "      <td>-119.23</td>\n",
       "      <td>34.19</td>\n",
       "      <td>16.0</td>\n",
       "      <td>5297.0</td>\n",
       "      <td>810.0</td>\n",
       "      <td>1489.0</td>\n",
       "      <td>667.0</td>\n",
       "      <td>6.4522</td>\n",
       "      <td>0</td>\n",
       "      <td>0</td>\n",
       "      <td>0</td>\n",
       "      <td>0</td>\n",
       "      <td>1</td>\n",
       "      <td>500001.0</td>\n",
       "    </tr>\n",
       "    <tr>\n",
       "      <th>11843</th>\n",
       "      <td>-120.93</td>\n",
       "      <td>39.96</td>\n",
       "      <td>15.0</td>\n",
       "      <td>1666.0</td>\n",
       "      <td>351.0</td>\n",
       "      <td>816.0</td>\n",
       "      <td>316.0</td>\n",
       "      <td>2.9559</td>\n",
       "      <td>0</td>\n",
       "      <td>1</td>\n",
       "      <td>0</td>\n",
       "      <td>0</td>\n",
       "      <td>0</td>\n",
       "      <td>118800.0</td>\n",
       "    </tr>\n",
       "    <tr>\n",
       "      <th>...</th>\n",
       "      <td>...</td>\n",
       "      <td>...</td>\n",
       "      <td>...</td>\n",
       "      <td>...</td>\n",
       "      <td>...</td>\n",
       "      <td>...</td>\n",
       "      <td>...</td>\n",
       "      <td>...</td>\n",
       "      <td>...</td>\n",
       "      <td>...</td>\n",
       "      <td>...</td>\n",
       "      <td>...</td>\n",
       "      <td>...</td>\n",
       "      <td>...</td>\n",
       "    </tr>\n",
       "    <tr>\n",
       "      <th>11065</th>\n",
       "      <td>-117.88</td>\n",
       "      <td>33.79</td>\n",
       "      <td>32.0</td>\n",
       "      <td>1484.0</td>\n",
       "      <td>295.0</td>\n",
       "      <td>928.0</td>\n",
       "      <td>295.0</td>\n",
       "      <td>5.1418</td>\n",
       "      <td>1</td>\n",
       "      <td>0</td>\n",
       "      <td>0</td>\n",
       "      <td>0</td>\n",
       "      <td>0</td>\n",
       "      <td>190300.0</td>\n",
       "    </tr>\n",
       "    <tr>\n",
       "      <th>17455</th>\n",
       "      <td>-120.43</td>\n",
       "      <td>34.70</td>\n",
       "      <td>26.0</td>\n",
       "      <td>2353.0</td>\n",
       "      <td>389.0</td>\n",
       "      <td>1420.0</td>\n",
       "      <td>389.0</td>\n",
       "      <td>3.8700</td>\n",
       "      <td>0</td>\n",
       "      <td>0</td>\n",
       "      <td>0</td>\n",
       "      <td>0</td>\n",
       "      <td>1</td>\n",
       "      <td>125800.0</td>\n",
       "    </tr>\n",
       "    <tr>\n",
       "      <th>5249</th>\n",
       "      <td>-118.45</td>\n",
       "      <td>34.08</td>\n",
       "      <td>52.0</td>\n",
       "      <td>1500.0</td>\n",
       "      <td>176.0</td>\n",
       "      <td>384.0</td>\n",
       "      <td>145.0</td>\n",
       "      <td>7.1576</td>\n",
       "      <td>1</td>\n",
       "      <td>0</td>\n",
       "      <td>0</td>\n",
       "      <td>0</td>\n",
       "      <td>0</td>\n",
       "      <td>500001.0</td>\n",
       "    </tr>\n",
       "    <tr>\n",
       "      <th>12290</th>\n",
       "      <td>-116.97</td>\n",
       "      <td>33.94</td>\n",
       "      <td>29.0</td>\n",
       "      <td>3197.0</td>\n",
       "      <td>632.0</td>\n",
       "      <td>1722.0</td>\n",
       "      <td>603.0</td>\n",
       "      <td>3.0432</td>\n",
       "      <td>0</td>\n",
       "      <td>1</td>\n",
       "      <td>0</td>\n",
       "      <td>0</td>\n",
       "      <td>0</td>\n",
       "      <td>91200.0</td>\n",
       "    </tr>\n",
       "    <tr>\n",
       "      <th>235</th>\n",
       "      <td>-122.20</td>\n",
       "      <td>37.79</td>\n",
       "      <td>35.0</td>\n",
       "      <td>1802.0</td>\n",
       "      <td>459.0</td>\n",
       "      <td>1009.0</td>\n",
       "      <td>390.0</td>\n",
       "      <td>2.3036</td>\n",
       "      <td>0</td>\n",
       "      <td>0</td>\n",
       "      <td>0</td>\n",
       "      <td>1</td>\n",
       "      <td>0</td>\n",
       "      <td>126000.0</td>\n",
       "    </tr>\n",
       "  </tbody>\n",
       "</table>\n",
       "<p>20433 rows × 14 columns</p>\n",
       "</div>"
      ],
      "text/plain": [
       "       longitude  latitude  housing_median_age  total_rooms  total_bedrooms  \\\n",
       "6715     -118.18     34.14                38.0       3039.0           487.0   \n",
       "4121     -118.19     34.14                38.0       1826.0           300.0   \n",
       "15433    -117.25     33.20                10.0       2050.0           473.0   \n",
       "20272    -119.23     34.19                16.0       5297.0           810.0   \n",
       "11843    -120.93     39.96                15.0       1666.0           351.0   \n",
       "...          ...       ...                 ...          ...             ...   \n",
       "11065    -117.88     33.79                32.0       1484.0           295.0   \n",
       "17455    -120.43     34.70                26.0       2353.0           389.0   \n",
       "5249     -118.45     34.08                52.0       1500.0           176.0   \n",
       "12290    -116.97     33.94                29.0       3197.0           632.0   \n",
       "235      -122.20     37.79                35.0       1802.0           459.0   \n",
       "\n",
       "       population  households  median_income  <1H OCEAN  INLAND  ISLAND  \\\n",
       "6715       1131.0       465.0         7.7116          1       0       0   \n",
       "4121        793.0       297.0         5.2962          1       0       0   \n",
       "15433      1302.0       471.0         2.7961          1       0       0   \n",
       "20272      1489.0       667.0         6.4522          0       0       0   \n",
       "11843       816.0       316.0         2.9559          0       1       0   \n",
       "...           ...         ...            ...        ...     ...     ...   \n",
       "11065       928.0       295.0         5.1418          1       0       0   \n",
       "17455      1420.0       389.0         3.8700          0       0       0   \n",
       "5249        384.0       145.0         7.1576          1       0       0   \n",
       "12290      1722.0       603.0         3.0432          0       1       0   \n",
       "235        1009.0       390.0         2.3036          0       0       0   \n",
       "\n",
       "       NEAR BAY  NEAR OCEAN  median_house_value  \n",
       "6715          0           0            360900.0  \n",
       "4121          0           0            291500.0  \n",
       "15433         0           0            131300.0  \n",
       "20272         0           1            500001.0  \n",
       "11843         0           0            118800.0  \n",
       "...         ...         ...                 ...  \n",
       "11065         0           0            190300.0  \n",
       "17455         0           1            125800.0  \n",
       "5249          0           0            500001.0  \n",
       "12290         0           0             91200.0  \n",
       "235           1           0            126000.0  \n",
       "\n",
       "[20433 rows x 14 columns]"
      ]
     },
     "execution_count": 95,
     "metadata": {},
     "output_type": "execute_result"
    }
   ],
   "source": [
    "# Reorders the columns of 'df_final' by specifying the desired column order\n",
    "# Keeps only the listed columns:\n",
    "#    - 'longitude', 'latitude': geographical coordinates\n",
    "#    - 'housing_median_age', 'total_rooms', 'total_bedrooms', 'population', 'households': housing data\n",
    "#    - 'median_income': median income of the area\n",
    "#    - One-hot encoded columns: '<1H OCEAN', 'INLAND', 'ISLAND', 'NEAR BAY', 'NEAR OCEAN' \n",
    "#      (representing different proximity categories to water)\n",
    "#    - 'median_house_value': target variable or outcome of interest\n",
    "# The DataFrame is then updated with only these columns in the specified order.\n",
    "# The call to 'df_final' at the end outputs the updated DataFrame.\n",
    "\n",
    "df_final = df_final[['longitude', 'latitude', \n",
    "                     'housing_median_age', 'total_rooms', \n",
    "                     'total_bedrooms', 'population', \n",
    "                     'households', 'median_income', \n",
    "                     '<1H OCEAN', 'INLAND', 'ISLAND', \n",
    "                     'NEAR BAY', 'NEAR OCEAN', 'median_house_value']]\n",
    "df_final"
   ]
  },
  {
   "cell_type": "markdown",
   "metadata": {},
   "source": [
    "## **Chapter 5: Model Building**"
   ]
  },
  {
   "cell_type": "markdown",
   "metadata": {},
   "source": [
    "**Introduction:**  \n",
    "In this phase, you'll build and train various models to find the best fit for your data. This involves splitting the data, training models, and evaluating their performance.\n"
   ]
  },
  {
   "cell_type": "code",
   "execution_count": 96,
   "metadata": {},
   "outputs": [
    {
     "data": {
      "text/plain": [
       "(18000, 1217, 1216)"
      ]
     },
     "execution_count": 96,
     "metadata": {},
     "output_type": "execute_result"
    }
   ],
   "source": [
    "# Splits 'df_final' into training (first 18,000 rows), test (next 1,217 rows), and validation sets (remaining rows).\n",
    "# Returns the length of each subset to verify the split.\n",
    "train_pd, test_pd, val_pd = df_final[:18000], df_final[18000:19217], df_final[19217:]\n",
    "len(train_pd), len(test_pd), len(val_pd)"
   ]
  },
  {
   "cell_type": "code",
   "execution_count": 97,
   "metadata": {},
   "outputs": [],
   "source": [
    "# Splits 'train_pd' into features (X_train: all columns except the last) and target (y_train: last column).\n",
    "X_train, y_train = train_pd.to_numpy()[:, :-1], train_pd.to_numpy()[:, -1]"
   ]
  },
  {
   "cell_type": "code",
   "execution_count": 98,
   "metadata": {},
   "outputs": [],
   "source": [
    "# Convert validation DataFrame to NumPy array and separate into features (all columns except the last) and target labels (last column)\n",
    "X_val, y_val = val_pd.to_numpy()[:, :-1], val_pd.to_numpy()[:, -1]\n",
    "\n",
    "# Convert test DataFrame to NumPy array and separate into features (all columns except the last) and target labels (last column)\n",
    "X_test, y_test = test_pd.to_numpy()[:, :-1], test_pd.to_numpy()[:, -1]\n"
   ]
  },
  {
   "cell_type": "code",
   "execution_count": 99,
   "metadata": {},
   "outputs": [
    {
     "data": {
      "text/plain": [
       "((18000, 13), (18000,), (1216, 13), (1216,), (1217, 13), (1217,))"
      ]
     },
     "execution_count": 99,
     "metadata": {},
     "output_type": "execute_result"
    }
   ],
   "source": [
    "# Print the shapes of training, validation, and test datasets for features and target labels\n",
    "X_train.shape, y_train.shape, X_val.shape, y_val.shape, X_test.shape, y_test.shape"
   ]
  },
  {
   "cell_type": "code",
   "execution_count": 100,
   "metadata": {},
   "outputs": [],
   "source": [
    "# scaler= StandardScaler().fit(X_train[:, :8])\n",
    "\n",
    "# def preprocessor(X):\n",
    "#     A = np.copy (X)\n",
    "#     A[:, :8] = scaler.transform(A[:, :8])\n",
    "#     return A\n",
    "\n",
    "# X_train_preprocessed = preprocessor(X_train)\n",
    "# X_train_preprocessed"
   ]
  },
  {
   "cell_type": "code",
   "execution_count": 101,
   "metadata": {},
   "outputs": [],
   "source": [
    "# pd.DataFrame(X_train_preprocessed).head"
   ]
  },
  {
   "cell_type": "code",
   "execution_count": 102,
   "metadata": {},
   "outputs": [],
   "source": [
    "# pd.DataFrame(X_train_preprocessed).hist()"
   ]
  },
  {
   "cell_type": "code",
   "execution_count": 103,
   "metadata": {},
   "outputs": [],
   "source": [
    "# pd.DataFrame(X_train_preprocessed)[0].hist()\n",
    "# pd.DataFrame(X_train_preprocessed)[1].hist()"
   ]
  },
  {
   "cell_type": "code",
   "execution_count": 104,
   "metadata": {},
   "outputs": [],
   "source": [
    "# Initialize and fit the StandardScaler on the first 8 features of the training set\n",
    "scaler = StandardScaler().fit(X_train[:, :8])\n",
    "\n",
    "# Define a preprocessing function that scales the first 8 features of the input data using the fitted scaler\n",
    "def preprocessor(X):\n",
    "    A = np.copy(X)  # Create a copy of the input data to avoid modifying the original\n",
    "    A[:, :8] = scaler.transform(A[:, :8])  # Apply scaling to the first 8 features\n",
    "    return A  # Return the scaled data\n",
    "\n",
    "# Apply the preprocessor function to the training, validation, and test datasets\n",
    "X_train, X_val, X_test = preprocessor(X_train), preprocessor(X_val), preprocessor(X_test)\n"
   ]
  },
  {
   "cell_type": "code",
   "execution_count": 105,
   "metadata": {},
   "outputs": [
    {
     "data": {
      "text/plain": [
       "((18000, 13), (1216, 13), (1217, 13))"
      ]
     },
     "execution_count": 105,
     "metadata": {},
     "output_type": "execute_result"
    }
   ],
   "source": [
    "# Print the shapes of the training, validation, and test feature arrays after preprocessing\n",
    "X_train.shape, X_val.shape, X_test.shape\n"
   ]
  },
  {
   "cell_type": "code",
   "execution_count": 107,
   "metadata": {},
   "outputs": [
    {
     "data": {
      "text/plain": [
       "(68533.98851290451, 68917.89298998918)"
      ]
     },
     "execution_count": 107,
     "metadata": {},
     "output_type": "execute_result"
    }
   ],
   "source": [
    "# Import the mean_squared_error function from scikit-learn and alias it as mse\n",
    "from sklearn.metrics import mean_squared_error as mse\n",
    "\n",
    "# Import the LinearRegression class from scikit-learn\n",
    "from sklearn.linear_model import LinearRegression\n",
    "\n",
    "# Initialize and fit a Linear Regression model on the training data\n",
    "lm = LinearRegression().fit(X_train, y_train)\n",
    "\n",
    "# Calculate the Root Mean Squared Error (RMSE) for the training and validation datasets\n",
    "# RMSE is calculated by predicting on the training and validation sets and comparing with the true labels\n",
    "mse(lm.predict(X_train), y_train, squared=False), mse(lm.predict(X_val), y_val, squared=False)\n"
   ]
  },
  {
   "cell_type": "code",
   "execution_count": 129,
   "metadata": {},
   "outputs": [
    {
     "data": {
      "text/plain": [
       "(53711.83586198198, 60475.17825546932)"
      ]
     },
     "execution_count": 129,
     "metadata": {},
     "output_type": "execute_result"
    }
   ],
   "source": [
    "# Import the KNeighborsRegressor class from scikit-learn\n",
    "from sklearn.neighbors import KNeighborsRegressor\n",
    "\n",
    "# Initialize and fit a K-Nearest Neighbors regressor with 10 neighbors on the training data\n",
    "knn = KNeighborsRegressor(n_neighbors=10).fit(X_train, y_train)\n",
    "\n",
    "# Calculate the Root Mean Squared Error (RMSE) for the training and validation datasets\n",
    "# RMSE is computed by predicting on the training and validation sets and comparing the predictions with the true labels\n",
    "mse(knn.predict(X_train), y_train, squared=False), mse(knn.predict(X_val), y_val, squared=False)\n"
   ]
  },
  {
   "cell_type": "code",
   "execution_count": 130,
   "metadata": {},
   "outputs": [
    {
     "data": {
      "text/plain": [
       "(48252.79936844114, 55309.27985705033)"
      ]
     },
     "execution_count": 130,
     "metadata": {},
     "output_type": "execute_result"
    }
   ],
   "source": [
    "# Import the RandomForestRegressor class from scikit-learn\n",
    "from sklearn.ensemble import RandomForestRegressor\n",
    "\n",
    "# Initialize and fit a Random Forest regressor with a maximum tree depth of 9 on the training data\n",
    "rfr = RandomForestRegressor(max_depth=9).fit(X_train, y_train)\n",
    "\n",
    "# Calculate the Root Mean Squared Error (RMSE) for the training and validation datasets\n",
    "# RMSE is calculated by predicting on the training and validation sets and comparing the predictions with the true labels\n",
    "mse(rfr.predict(X_train), y_train, squared=False), mse(rfr.predict(X_val), y_val, squared=False)\n"
   ]
  },
  {
   "cell_type": "code",
   "execution_count": 132,
   "metadata": {},
   "outputs": [
    {
     "data": {
      "text/plain": [
       "(48234.844661436364, 52501.41443352248)"
      ]
     },
     "execution_count": 132,
     "metadata": {},
     "output_type": "execute_result"
    }
   ],
   "source": [
    "# Import the GradientBoostingRegressor class from scikit-learn\n",
    "from sklearn.ensemble import GradientBoostingRegressor\n",
    "\n",
    "# Initialize and fit a Gradient Boosting regressor with 200 estimators on the training data\n",
    "gbr = GradientBoostingRegressor(n_estimators=200).fit(X_train, y_train)\n",
    "\n",
    "# Calculate the Root Mean Squared Error (RMSE) for the training and validation datasets\n",
    "# RMSE is computed by predicting on the training and validation sets and comparing the predictions with the true labels\n",
    "mse(gbr.predict(X_train), y_train, squared=False), mse(gbr.predict(X_val), y_val, squared=False)\n"
   ]
  },
  {
   "cell_type": "code",
   "execution_count": 141,
   "metadata": {},
   "outputs": [
    {
     "name": "stdout",
     "output_type": "stream",
     "text": [
      "Epoch 1/100\n",
      "532/563 [===========================>..] - ETA: 0s - loss: 53823348736.0000 - root_mean_squared_error: 231998.5938INFO:tensorflow:Assets written to: model\\simple_nn\\assets\n"
     ]
    },
    {
     "name": "stderr",
     "output_type": "stream",
     "text": [
      "INFO:tensorflow:Assets written to: model\\simple_nn\\assets\n"
     ]
    },
    {
     "name": "stdout",
     "output_type": "stream",
     "text": [
      "563/563 [==============================] - 2s 3ms/step - loss: 53444116480.0000 - root_mean_squared_error: 231179.8281 - val_loss: 43026169856.0000 - val_root_mean_squared_error: 207427.5000\n",
      "Epoch 2/100\n",
      "545/563 [============================>.] - ETA: 0s - loss: 40326774784.0000 - root_mean_squared_error: 200815.2812INFO:tensorflow:Assets written to: model\\simple_nn\\assets\n"
     ]
    },
    {
     "name": "stderr",
     "output_type": "stream",
     "text": [
      "INFO:tensorflow:Assets written to: model\\simple_nn\\assets\n"
     ]
    },
    {
     "name": "stdout",
     "output_type": "stream",
     "text": [
      "563/563 [==============================] - 1s 2ms/step - loss: 39940653056.0000 - root_mean_squared_error: 199851.5781 - val_loss: 29219760128.0000 - val_root_mean_squared_error: 170937.8906\n",
      "Epoch 3/100\n",
      "544/563 [===========================>..] - ETA: 0s - loss: 27291084800.0000 - root_mean_squared_error: 165200.1406INFO:tensorflow:Assets written to: model\\simple_nn\\assets\n"
     ]
    },
    {
     "name": "stderr",
     "output_type": "stream",
     "text": [
      "INFO:tensorflow:Assets written to: model\\simple_nn\\assets\n"
     ]
    },
    {
     "name": "stdout",
     "output_type": "stream",
     "text": [
      "563/563 [==============================] - 1s 2ms/step - loss: 27161894912.0000 - root_mean_squared_error: 164808.6562 - val_loss: 21278652416.0000 - val_root_mean_squared_error: 145872.0469\n",
      "Epoch 4/100\n",
      "538/563 [===========================>..] - ETA: 0s - loss: 19771060224.0000 - root_mean_squared_error: 140609.6094INFO:tensorflow:Assets written to: model\\simple_nn\\assets\n"
     ]
    },
    {
     "name": "stderr",
     "output_type": "stream",
     "text": [
      "INFO:tensorflow:Assets written to: model\\simple_nn\\assets\n"
     ]
    },
    {
     "name": "stdout",
     "output_type": "stream",
     "text": [
      "563/563 [==============================] - 1s 2ms/step - loss: 19678994432.0000 - root_mean_squared_error: 140281.8438 - val_loss: 15586051072.0000 - val_root_mean_squared_error: 124844.1094\n",
      "Epoch 5/100\n",
      "546/563 [============================>.] - ETA: 0s - loss: 12672452608.0000 - root_mean_squared_error: 112571.9922INFO:tensorflow:Assets written to: model\\simple_nn\\assets\n"
     ]
    },
    {
     "name": "stderr",
     "output_type": "stream",
     "text": [
      "INFO:tensorflow:Assets written to: model\\simple_nn\\assets\n"
     ]
    },
    {
     "name": "stdout",
     "output_type": "stream",
     "text": [
      "563/563 [==============================] - 1s 2ms/step - loss: 12540364800.0000 - root_mean_squared_error: 111983.7734 - val_loss: 8408854528.0000 - val_root_mean_squared_error: 91699.8047\n",
      "Epoch 6/100\n",
      "528/563 [===========================>..] - ETA: 0s - loss: 6425246208.0000 - root_mean_squared_error: 80157.6328INFO:tensorflow:Assets written to: model\\simple_nn\\assets\n"
     ]
    },
    {
     "name": "stderr",
     "output_type": "stream",
     "text": [
      "INFO:tensorflow:Assets written to: model\\simple_nn\\assets\n"
     ]
    },
    {
     "name": "stdout",
     "output_type": "stream",
     "text": [
      "563/563 [==============================] - 1s 2ms/step - loss: 6371031552.0000 - root_mean_squared_error: 79818.7422 - val_loss: 5074432000.0000 - val_root_mean_squared_error: 71235.0469\n",
      "Epoch 7/100\n",
      "545/563 [============================>.] - ETA: 0s - loss: 5145430016.0000 - root_mean_squared_error: 71731.6562INFO:tensorflow:Assets written to: model\\simple_nn\\assets\n"
     ]
    },
    {
     "name": "stderr",
     "output_type": "stream",
     "text": [
      "INFO:tensorflow:Assets written to: model\\simple_nn\\assets\n"
     ]
    },
    {
     "name": "stdout",
     "output_type": "stream",
     "text": [
      "563/563 [==============================] - 2s 3ms/step - loss: 5127269888.0000 - root_mean_squared_error: 71604.9609 - val_loss: 4900275712.0000 - val_root_mean_squared_error: 70001.9688\n",
      "Epoch 8/100\n",
      "560/563 [============================>.] - ETA: 0s - loss: 4959399936.0000 - root_mean_squared_error: 70423.0078INFO:tensorflow:Assets written to: model\\simple_nn\\assets\n"
     ]
    },
    {
     "name": "stderr",
     "output_type": "stream",
     "text": [
      "INFO:tensorflow:Assets written to: model\\simple_nn\\assets\n"
     ]
    },
    {
     "name": "stdout",
     "output_type": "stream",
     "text": [
      "563/563 [==============================] - 1s 2ms/step - loss: 4956894720.0000 - root_mean_squared_error: 70405.2188 - val_loss: 4812503040.0000 - val_root_mean_squared_error: 69372.2031\n",
      "Epoch 9/100\n",
      "529/563 [===========================>..] - ETA: 0s - loss: 4870375936.0000 - root_mean_squared_error: 69788.0781INFO:tensorflow:Assets written to: model\\simple_nn\\assets\n"
     ]
    },
    {
     "name": "stderr",
     "output_type": "stream",
     "text": [
      "INFO:tensorflow:Assets written to: model\\simple_nn\\assets\n"
     ]
    },
    {
     "name": "stdout",
     "output_type": "stream",
     "text": [
      "563/563 [==============================] - 1s 2ms/step - loss: 4870012416.0000 - root_mean_squared_error: 69785.4766 - val_loss: 4774068736.0000 - val_root_mean_squared_error: 69094.6328\n",
      "Epoch 10/100\n",
      "554/563 [============================>.] - ETA: 0s - loss: 4820625920.0000 - root_mean_squared_error: 69430.7266INFO:tensorflow:Assets written to: model\\simple_nn\\assets\n"
     ]
    },
    {
     "name": "stderr",
     "output_type": "stream",
     "text": [
      "INFO:tensorflow:Assets written to: model\\simple_nn\\assets\n"
     ]
    },
    {
     "name": "stdout",
     "output_type": "stream",
     "text": [
      "563/563 [==============================] - 2s 3ms/step - loss: 4815385600.0000 - root_mean_squared_error: 69392.9766 - val_loss: 4733513216.0000 - val_root_mean_squared_error: 68800.5312\n",
      "Epoch 11/100\n",
      "549/563 [============================>.] - ETA: 0s - loss: 4778366464.0000 - root_mean_squared_error: 69125.7266INFO:tensorflow:Assets written to: model\\simple_nn\\assets\n"
     ]
    },
    {
     "name": "stderr",
     "output_type": "stream",
     "text": [
      "INFO:tensorflow:Assets written to: model\\simple_nn\\assets\n"
     ]
    },
    {
     "name": "stdout",
     "output_type": "stream",
     "text": [
      "563/563 [==============================] - 1s 2ms/step - loss: 4776014848.0000 - root_mean_squared_error: 69108.7188 - val_loss: 4702334976.0000 - val_root_mean_squared_error: 68573.5703\n",
      "Epoch 12/100\n",
      "548/563 [============================>.] - ETA: 0s - loss: 4748193792.0000 - root_mean_squared_error: 68907.1406INFO:tensorflow:Assets written to: model\\simple_nn\\assets\n"
     ]
    },
    {
     "name": "stderr",
     "output_type": "stream",
     "text": [
      "INFO:tensorflow:Assets written to: model\\simple_nn\\assets\n"
     ]
    },
    {
     "name": "stdout",
     "output_type": "stream",
     "text": [
      "563/563 [==============================] - 1s 2ms/step - loss: 4748078592.0000 - root_mean_squared_error: 68906.3047 - val_loss: 4702334464.0000 - val_root_mean_squared_error: 68573.5703\n",
      "Epoch 13/100\n",
      "547/563 [============================>.] - ETA: 0s - loss: 4740846592.0000 - root_mean_squared_error: 68853.8047INFO:tensorflow:Assets written to: model\\simple_nn\\assets\n"
     ]
    },
    {
     "name": "stderr",
     "output_type": "stream",
     "text": [
      "INFO:tensorflow:Assets written to: model\\simple_nn\\assets\n"
     ]
    },
    {
     "name": "stdout",
     "output_type": "stream",
     "text": [
      "563/563 [==============================] - 1s 2ms/step - loss: 4727510528.0000 - root_mean_squared_error: 68756.8906 - val_loss: 4690500608.0000 - val_root_mean_squared_error: 68487.2266\n",
      "Epoch 14/100\n",
      "563/563 [==============================] - 1s 1ms/step - loss: 4710153216.0000 - root_mean_squared_error: 68630.5547 - val_loss: 4699519488.0000 - val_root_mean_squared_error: 68553.0391\n",
      "Epoch 15/100\n",
      "558/563 [============================>.] - ETA: 0s - loss: 4690851328.0000 - root_mean_squared_error: 68489.7891INFO:tensorflow:Assets written to: model\\simple_nn\\assets\n"
     ]
    },
    {
     "name": "stderr",
     "output_type": "stream",
     "text": [
      "INFO:tensorflow:Assets written to: model\\simple_nn\\assets\n"
     ]
    },
    {
     "name": "stdout",
     "output_type": "stream",
     "text": [
      "563/563 [==============================] - 2s 3ms/step - loss: 4699877376.0000 - root_mean_squared_error: 68555.6484 - val_loss: 4682365440.0000 - val_root_mean_squared_error: 68427.8125\n",
      "Epoch 16/100\n",
      "528/563 [===========================>..] - ETA: 0s - loss: 4668015104.0000 - root_mean_squared_error: 68322.8750INFO:tensorflow:Assets written to: model\\simple_nn\\assets\n"
     ]
    },
    {
     "name": "stderr",
     "output_type": "stream",
     "text": [
      "INFO:tensorflow:Assets written to: model\\simple_nn\\assets\n"
     ]
    },
    {
     "name": "stdout",
     "output_type": "stream",
     "text": [
      "563/563 [==============================] - 1s 2ms/step - loss: 4687985664.0000 - root_mean_squared_error: 68468.8672 - val_loss: 4676049920.0000 - val_root_mean_squared_error: 68381.6484\n",
      "Epoch 17/100\n",
      "533/563 [===========================>..] - ETA: 0s - loss: 4686637568.0000 - root_mean_squared_error: 68459.0234INFO:tensorflow:Assets written to: model\\simple_nn\\assets\n"
     ]
    },
    {
     "name": "stderr",
     "output_type": "stream",
     "text": [
      "INFO:tensorflow:Assets written to: model\\simple_nn\\assets\n"
     ]
    },
    {
     "name": "stdout",
     "output_type": "stream",
     "text": [
      "563/563 [==============================] - 1s 2ms/step - loss: 4680020992.0000 - root_mean_squared_error: 68410.6797 - val_loss: 4671067648.0000 - val_root_mean_squared_error: 68345.2109\n",
      "Epoch 18/100\n",
      "563/563 [==============================] - 1s 1ms/step - loss: 4673215488.0000 - root_mean_squared_error: 68360.9219 - val_loss: 4695379968.0000 - val_root_mean_squared_error: 68522.8438\n",
      "Epoch 19/100\n",
      "563/563 [==============================] - 1s 1ms/step - loss: 4668314624.0000 - root_mean_squared_error: 68325.0625 - val_loss: 4690597376.0000 - val_root_mean_squared_error: 68487.9375\n",
      "Epoch 20/100\n",
      "563/563 [==============================] - 1s 1ms/step - loss: 4663596544.0000 - root_mean_squared_error: 68290.5312 - val_loss: 4710884864.0000 - val_root_mean_squared_error: 68635.8828\n",
      "Epoch 21/100\n",
      "563/563 [==============================] - 1s 1ms/step - loss: 4660552192.0000 - root_mean_squared_error: 68268.2344 - val_loss: 4699471360.0000 - val_root_mean_squared_error: 68552.6875\n",
      "Epoch 22/100\n",
      "563/563 [==============================] - 1s 1ms/step - loss: 4657208832.0000 - root_mean_squared_error: 68243.7422 - val_loss: 4681326592.0000 - val_root_mean_squared_error: 68420.2188\n",
      "Epoch 23/100\n",
      "563/563 [==============================] - 1s 1ms/step - loss: 4654052352.0000 - root_mean_squared_error: 68220.6172 - val_loss: 4693774848.0000 - val_root_mean_squared_error: 68511.1328\n",
      "Epoch 24/100\n",
      "563/563 [==============================] - 1s 1ms/step - loss: 4651734016.0000 - root_mean_squared_error: 68203.6250 - val_loss: 4719135744.0000 - val_root_mean_squared_error: 68695.9688\n",
      "Epoch 25/100\n",
      "563/563 [==============================] - 1s 1ms/step - loss: 4649913344.0000 - root_mean_squared_error: 68190.2734 - val_loss: 4716060672.0000 - val_root_mean_squared_error: 68673.5781\n",
      "Epoch 26/100\n",
      "563/563 [==============================] - 1s 2ms/step - loss: 4647500800.0000 - root_mean_squared_error: 68172.5781 - val_loss: 4696981504.0000 - val_root_mean_squared_error: 68534.5312\n",
      "Epoch 27/100\n",
      "563/563 [==============================] - 1s 1ms/step - loss: 4647057408.0000 - root_mean_squared_error: 68169.3281 - val_loss: 4717760512.0000 - val_root_mean_squared_error: 68685.9531\n",
      "Epoch 28/100\n",
      "563/563 [==============================] - 1s 1ms/step - loss: 4645771776.0000 - root_mean_squared_error: 68159.8984 - val_loss: 4713660928.0000 - val_root_mean_squared_error: 68656.1094\n",
      "Epoch 29/100\n",
      "563/563 [==============================] - 1s 1ms/step - loss: 4644828672.0000 - root_mean_squared_error: 68152.9766 - val_loss: 4714723840.0000 - val_root_mean_squared_error: 68663.8438\n",
      "Epoch 30/100\n",
      "563/563 [==============================] - 1s 1ms/step - loss: 4643245056.0000 - root_mean_squared_error: 68141.3594 - val_loss: 4725960704.0000 - val_root_mean_squared_error: 68745.6250\n",
      "Epoch 31/100\n",
      "563/563 [==============================] - 1s 1ms/step - loss: 4642866176.0000 - root_mean_squared_error: 68138.5781 - val_loss: 4730201600.0000 - val_root_mean_squared_error: 68776.4609\n",
      "Epoch 32/100\n",
      "563/563 [==============================] - 1s 1ms/step - loss: 4642860032.0000 - root_mean_squared_error: 68138.5391 - val_loss: 4721890816.0000 - val_root_mean_squared_error: 68716.0156\n",
      "Epoch 33/100\n",
      "563/563 [==============================] - 1s 1ms/step - loss: 4640133632.0000 - root_mean_squared_error: 68118.5234 - val_loss: 4705493504.0000 - val_root_mean_squared_error: 68596.6016\n",
      "Epoch 34/100\n",
      "563/563 [==============================] - 1s 1ms/step - loss: 4642018816.0000 - root_mean_squared_error: 68132.3594 - val_loss: 4726417920.0000 - val_root_mean_squared_error: 68748.9453\n",
      "Epoch 35/100\n",
      "563/563 [==============================] - 1s 1ms/step - loss: 4638099968.0000 - root_mean_squared_error: 68103.5938 - val_loss: 4733346816.0000 - val_root_mean_squared_error: 68799.3203\n",
      "Epoch 36/100\n",
      "563/563 [==============================] - 1s 1ms/step - loss: 4640526848.0000 - root_mean_squared_error: 68121.4141 - val_loss: 4730384384.0000 - val_root_mean_squared_error: 68777.7891\n",
      "Epoch 37/100\n",
      "563/563 [==============================] - 1s 1ms/step - loss: 4639685632.0000 - root_mean_squared_error: 68115.2344 - val_loss: 4725860352.0000 - val_root_mean_squared_error: 68744.8906\n",
      "Epoch 38/100\n",
      "563/563 [==============================] - 1s 1ms/step - loss: 4638313472.0000 - root_mean_squared_error: 68105.1641 - val_loss: 4717658112.0000 - val_root_mean_squared_error: 68685.2109\n",
      "Epoch 39/100\n",
      "563/563 [==============================] - 1s 1ms/step - loss: 4639555072.0000 - root_mean_squared_error: 68114.2812 - val_loss: 4717481984.0000 - val_root_mean_squared_error: 68683.9297\n",
      "Epoch 40/100\n",
      "563/563 [==============================] - 1s 1ms/step - loss: 4638227456.0000 - root_mean_squared_error: 68104.5312 - val_loss: 4726303744.0000 - val_root_mean_squared_error: 68748.1172\n",
      "Epoch 41/100\n",
      "563/563 [==============================] - 1s 1ms/step - loss: 4636484608.0000 - root_mean_squared_error: 68091.7344 - val_loss: 4707466752.0000 - val_root_mean_squared_error: 68610.9844\n",
      "Epoch 42/100\n",
      "563/563 [==============================] - 1s 1ms/step - loss: 4638286336.0000 - root_mean_squared_error: 68104.9688 - val_loss: 4733524992.0000 - val_root_mean_squared_error: 68800.6172\n",
      "Epoch 43/100\n",
      "563/563 [==============================] - 1s 1ms/step - loss: 4637522432.0000 - root_mean_squared_error: 68099.3594 - val_loss: 4728171008.0000 - val_root_mean_squared_error: 68761.6953\n",
      "Epoch 44/100\n",
      "563/563 [==============================] - 1s 1ms/step - loss: 4636325376.0000 - root_mean_squared_error: 68090.5703 - val_loss: 4727422464.0000 - val_root_mean_squared_error: 68756.2578\n",
      "Epoch 45/100\n",
      "563/563 [==============================] - 1s 1ms/step - loss: 4637249536.0000 - root_mean_squared_error: 68097.3516 - val_loss: 4735987712.0000 - val_root_mean_squared_error: 68818.5156\n",
      "Epoch 46/100\n",
      "563/563 [==============================] - 1s 1ms/step - loss: 4637444096.0000 - root_mean_squared_error: 68098.7812 - val_loss: 4745583104.0000 - val_root_mean_squared_error: 68888.1953\n",
      "Epoch 47/100\n",
      "563/563 [==============================] - 1s 1ms/step - loss: 4636419584.0000 - root_mean_squared_error: 68091.2578 - val_loss: 4739425280.0000 - val_root_mean_squared_error: 68843.4844\n",
      "Epoch 48/100\n",
      "563/563 [==============================] - 1s 1ms/step - loss: 4636923392.0000 - root_mean_squared_error: 68094.9609 - val_loss: 4730267136.0000 - val_root_mean_squared_error: 68776.9375\n",
      "Epoch 49/100\n",
      "563/563 [==============================] - 1s 1ms/step - loss: 4635981312.0000 - root_mean_squared_error: 68088.0391 - val_loss: 4719392768.0000 - val_root_mean_squared_error: 68697.8359\n",
      "Epoch 50/100\n",
      "563/563 [==============================] - 1s 1ms/step - loss: 4635856896.0000 - root_mean_squared_error: 68087.1250 - val_loss: 4722030592.0000 - val_root_mean_squared_error: 68717.0312\n",
      "Epoch 51/100\n",
      "563/563 [==============================] - 1s 1ms/step - loss: 4634898944.0000 - root_mean_squared_error: 68080.0938 - val_loss: 4713878016.0000 - val_root_mean_squared_error: 68657.6875\n",
      "Epoch 52/100\n",
      "563/563 [==============================] - 1s 946us/step - loss: 4635731968.0000 - root_mean_squared_error: 68086.2109 - val_loss: 4737600512.0000 - val_root_mean_squared_error: 68830.2266\n",
      "Epoch 53/100\n",
      "563/563 [==============================] - 1s 959us/step - loss: 4635422208.0000 - root_mean_squared_error: 68083.9375 - val_loss: 4723148800.0000 - val_root_mean_squared_error: 68725.1719\n",
      "Epoch 54/100\n",
      "563/563 [==============================] - 1s 923us/step - loss: 4635002368.0000 - root_mean_squared_error: 68080.8516 - val_loss: 4719845888.0000 - val_root_mean_squared_error: 68701.1328\n",
      "Epoch 55/100\n",
      "563/563 [==============================] - 1s 1ms/step - loss: 4634723840.0000 - root_mean_squared_error: 68078.8047 - val_loss: 4732334592.0000 - val_root_mean_squared_error: 68791.9688\n",
      "Epoch 56/100\n",
      "563/563 [==============================] - 1s 1ms/step - loss: 4634346496.0000 - root_mean_squared_error: 68076.0312 - val_loss: 4724980224.0000 - val_root_mean_squared_error: 68738.4922\n",
      "Epoch 57/100\n",
      "563/563 [==============================] - 1s 984us/step - loss: 4632841728.0000 - root_mean_squared_error: 68064.9844 - val_loss: 4713110528.0000 - val_root_mean_squared_error: 68652.1016\n",
      "Epoch 58/100\n",
      "563/563 [==============================] - 1s 967us/step - loss: 4635554304.0000 - root_mean_squared_error: 68084.9062 - val_loss: 4730338304.0000 - val_root_mean_squared_error: 68777.4531\n",
      "Epoch 59/100\n",
      "563/563 [==============================] - 1s 925us/step - loss: 4634409984.0000 - root_mean_squared_error: 68076.5000 - val_loss: 4726366208.0000 - val_root_mean_squared_error: 68748.5703\n",
      "Epoch 60/100\n",
      "563/563 [==============================] - 1s 929us/step - loss: 4634052096.0000 - root_mean_squared_error: 68073.8750 - val_loss: 4742475776.0000 - val_root_mean_squared_error: 68865.6328\n",
      "Epoch 61/100\n",
      "563/563 [==============================] - 1s 929us/step - loss: 4633747968.0000 - root_mean_squared_error: 68071.6406 - val_loss: 4737155584.0000 - val_root_mean_squared_error: 68827.0000\n",
      "Epoch 62/100\n",
      "563/563 [==============================] - 1s 909us/step - loss: 4634350592.0000 - root_mean_squared_error: 68076.0625 - val_loss: 4735430656.0000 - val_root_mean_squared_error: 68814.4688\n",
      "Epoch 63/100\n",
      "563/563 [==============================] - 1s 955us/step - loss: 4632913920.0000 - root_mean_squared_error: 68065.5156 - val_loss: 4722045952.0000 - val_root_mean_squared_error: 68717.1406\n",
      "Epoch 64/100\n",
      "563/563 [==============================] - 1s 918us/step - loss: 4633992704.0000 - root_mean_squared_error: 68073.4375 - val_loss: 4722184192.0000 - val_root_mean_squared_error: 68718.1484\n",
      "Epoch 65/100\n",
      "563/563 [==============================] - 1s 919us/step - loss: 4632422912.0000 - root_mean_squared_error: 68061.9062 - val_loss: 4715430912.0000 - val_root_mean_squared_error: 68668.9922\n",
      "Epoch 66/100\n",
      "563/563 [==============================] - 1s 915us/step - loss: 4632960000.0000 - root_mean_squared_error: 68065.8516 - val_loss: 4716053504.0000 - val_root_mean_squared_error: 68673.5312\n",
      "Epoch 67/100\n",
      "563/563 [==============================] - 1s 955us/step - loss: 4632089600.0000 - root_mean_squared_error: 68059.4531 - val_loss: 4729117696.0000 - val_root_mean_squared_error: 68768.5781\n",
      "Epoch 68/100\n",
      "563/563 [==============================] - 1s 947us/step - loss: 4633595904.0000 - root_mean_squared_error: 68070.5234 - val_loss: 4729715200.0000 - val_root_mean_squared_error: 68772.9219\n",
      "Epoch 69/100\n",
      "563/563 [==============================] - 1s 922us/step - loss: 4633270784.0000 - root_mean_squared_error: 68068.1328 - val_loss: 4732425216.0000 - val_root_mean_squared_error: 68792.6250\n",
      "Epoch 70/100\n",
      "563/563 [==============================] - 1s 926us/step - loss: 4632154624.0000 - root_mean_squared_error: 68059.9375 - val_loss: 4714533376.0000 - val_root_mean_squared_error: 68662.4609\n",
      "Epoch 71/100\n",
      "563/563 [==============================] - 1s 911us/step - loss: 4631901184.0000 - root_mean_squared_error: 68058.0703 - val_loss: 4727775232.0000 - val_root_mean_squared_error: 68758.8203\n",
      "Epoch 72/100\n",
      "563/563 [==============================] - 1s 961us/step - loss: 4632427008.0000 - root_mean_squared_error: 68061.9375 - val_loss: 4721796608.0000 - val_root_mean_squared_error: 68715.3281\n",
      "Epoch 73/100\n",
      "563/563 [==============================] - 1s 919us/step - loss: 4631889920.0000 - root_mean_squared_error: 68057.9922 - val_loss: 4719341568.0000 - val_root_mean_squared_error: 68697.4609\n",
      "Epoch 74/100\n",
      "563/563 [==============================] - 1s 942us/step - loss: 4631876096.0000 - root_mean_squared_error: 68057.8906 - val_loss: 4749888000.0000 - val_root_mean_squared_error: 68919.4297\n",
      "Epoch 75/100\n",
      "563/563 [==============================] - 1s 914us/step - loss: 4631723520.0000 - root_mean_squared_error: 68056.7656 - val_loss: 4726853632.0000 - val_root_mean_squared_error: 68752.1172\n",
      "Epoch 76/100\n",
      "563/563 [==============================] - 1s 1ms/step - loss: 4632005632.0000 - root_mean_squared_error: 68058.8359 - val_loss: 4738044928.0000 - val_root_mean_squared_error: 68833.4609\n",
      "Epoch 77/100\n",
      "563/563 [==============================] - 1s 1ms/step - loss: 4633858048.0000 - root_mean_squared_error: 68072.4453 - val_loss: 4730867712.0000 - val_root_mean_squared_error: 68781.3047\n",
      "Epoch 78/100\n",
      "563/563 [==============================] - 1s 1ms/step - loss: 4631672320.0000 - root_mean_squared_error: 68056.3906 - val_loss: 4733321216.0000 - val_root_mean_squared_error: 68799.1406\n",
      "Epoch 79/100\n",
      "563/563 [==============================] - 1s 912us/step - loss: 4629140992.0000 - root_mean_squared_error: 68037.7891 - val_loss: 4742962176.0000 - val_root_mean_squared_error: 68869.1641\n",
      "Epoch 80/100\n",
      "563/563 [==============================] - 1s 941us/step - loss: 4631390720.0000 - root_mean_squared_error: 68054.3203 - val_loss: 4722771968.0000 - val_root_mean_squared_error: 68722.4297\n",
      "Epoch 81/100\n",
      "563/563 [==============================] - 1s 932us/step - loss: 4631889408.0000 - root_mean_squared_error: 68057.9844 - val_loss: 4729240576.0000 - val_root_mean_squared_error: 68769.4766\n",
      "Epoch 82/100\n",
      "563/563 [==============================] - 1s 911us/step - loss: 4631292928.0000 - root_mean_squared_error: 68053.6016 - val_loss: 4726318592.0000 - val_root_mean_squared_error: 68748.2266\n",
      "Epoch 83/100\n",
      "563/563 [==============================] - 1s 904us/step - loss: 4631552000.0000 - root_mean_squared_error: 68055.5078 - val_loss: 4744982528.0000 - val_root_mean_squared_error: 68883.8359\n",
      "Epoch 84/100\n",
      "563/563 [==============================] - 1s 945us/step - loss: 4630732288.0000 - root_mean_squared_error: 68049.4844 - val_loss: 4721052160.0000 - val_root_mean_squared_error: 68709.9141\n",
      "Epoch 85/100\n",
      "563/563 [==============================] - 1s 912us/step - loss: 4630938624.0000 - root_mean_squared_error: 68051.0000 - val_loss: 4725809664.0000 - val_root_mean_squared_error: 68744.5234\n",
      "Epoch 86/100\n",
      "563/563 [==============================] - 1s 909us/step - loss: 4630655488.0000 - root_mean_squared_error: 68048.9219 - val_loss: 4741885952.0000 - val_root_mean_squared_error: 68861.3516\n",
      "Epoch 87/100\n",
      "563/563 [==============================] - 1s 920us/step - loss: 4630649856.0000 - root_mean_squared_error: 68048.8750 - val_loss: 4743532544.0000 - val_root_mean_squared_error: 68873.3047\n",
      "Epoch 88/100\n",
      "563/563 [==============================] - 1s 903us/step - loss: 4630343168.0000 - root_mean_squared_error: 68046.6250 - val_loss: 4740265472.0000 - val_root_mean_squared_error: 68849.5859\n",
      "Epoch 89/100\n",
      "563/563 [==============================] - 1s 954us/step - loss: 4629713920.0000 - root_mean_squared_error: 68042.0000 - val_loss: 4719355392.0000 - val_root_mean_squared_error: 68697.5625\n",
      "Epoch 90/100\n",
      "563/563 [==============================] - 1s 909us/step - loss: 4630093824.0000 - root_mean_squared_error: 68044.7891 - val_loss: 4741853184.0000 - val_root_mean_squared_error: 68861.1172\n",
      "Epoch 91/100\n",
      "563/563 [==============================] - 1s 914us/step - loss: 4630877184.0000 - root_mean_squared_error: 68050.5469 - val_loss: 4726693376.0000 - val_root_mean_squared_error: 68750.9531\n",
      "Epoch 92/100\n",
      "563/563 [==============================] - 1s 910us/step - loss: 4629803008.0000 - root_mean_squared_error: 68042.6562 - val_loss: 4741345792.0000 - val_root_mean_squared_error: 68857.4297\n",
      "Epoch 93/100\n",
      "563/563 [==============================] - 1s 937us/step - loss: 4630263296.0000 - root_mean_squared_error: 68046.0391 - val_loss: 4728950272.0000 - val_root_mean_squared_error: 68767.3672\n",
      "Epoch 94/100\n",
      "563/563 [==============================] - 1s 913us/step - loss: 4629506048.0000 - root_mean_squared_error: 68040.4766 - val_loss: 4742040576.0000 - val_root_mean_squared_error: 68862.4766\n",
      "Epoch 95/100\n",
      "563/563 [==============================] - 1s 918us/step - loss: 4630065152.0000 - root_mean_squared_error: 68044.5859 - val_loss: 4710338048.0000 - val_root_mean_squared_error: 68631.9062\n",
      "Epoch 96/100\n",
      "563/563 [==============================] - 1s 909us/step - loss: 4630433792.0000 - root_mean_squared_error: 68047.2891 - val_loss: 4728502272.0000 - val_root_mean_squared_error: 68764.1094\n",
      "Epoch 97/100\n",
      "563/563 [==============================] - 1s 948us/step - loss: 4629687296.0000 - root_mean_squared_error: 68041.8047 - val_loss: 4742641664.0000 - val_root_mean_squared_error: 68866.8438\n",
      "Epoch 98/100\n",
      "563/563 [==============================] - 1s 895us/step - loss: 4628918784.0000 - root_mean_squared_error: 68036.1562 - val_loss: 4726894592.0000 - val_root_mean_squared_error: 68752.4141\n",
      "Epoch 99/100\n",
      "563/563 [==============================] - 1s 892us/step - loss: 4629549568.0000 - root_mean_squared_error: 68040.7969 - val_loss: 4726756864.0000 - val_root_mean_squared_error: 68751.4141\n",
      "Epoch 100/100\n",
      "563/563 [==============================] - 1s 920us/step - loss: 4629149184.0000 - root_mean_squared_error: 68037.8516 - val_loss: 4730873344.0000 - val_root_mean_squared_error: 68781.3438\n"
     ]
    },
    {
     "data": {
      "text/plain": [
       "<keras.src.callbacks.History at 0x2b3e9d356d0>"
      ]
     },
     "execution_count": 141,
     "metadata": {},
     "output_type": "execute_result"
    }
   ],
   "source": [
    "# Import necessary modules from TensorFlow and Keras\n",
    "from tensorflow import keras\n",
    "from keras.models import Sequential\n",
    "from keras.layers import *\n",
    "from keras.callbacks import ModelCheckpoint\n",
    "from keras.metrics import RootMeanSquaredError\n",
    "from keras.optimizers import Adam\n",
    "\n",
    "# Initialize a Sequential neural network model\n",
    "simple_nn = Sequential()\n",
    "\n",
    "# Add an input layer specifying the input shape (13 features)\n",
    "simple_nn.add(InputLayer((13,)))\n",
    "\n",
    "# Add a dense hidden layer with 2 units and ReLU activation function\n",
    "simple_nn.add(Dense(2, 'relu'))\n",
    "\n",
    "# Add an output layer with 1 unit and linear activation function for regression\n",
    "simple_nn.add(Dense(1, 'linear'))\n",
    "\n",
    "# Initialize the Adam optimizer with a learning rate of 0.1\n",
    "opt = Adam(learning_rate=0.1)\n",
    "\n",
    "# Set up a ModelCheckpoint callback to save the best model during training\n",
    "cp = ModelCheckpoint('model/simple_nn', save_best_only=True)\n",
    "\n",
    "# Compile the model with mean squared error loss, Adam optimizer, and Root Mean Squared Error as a metric\n",
    "simple_nn.compile(optimizer=opt, loss='mse', metrics=[RootMeanSquaredError()])\n",
    "\n",
    "# Train the model on the training data, with validation data and ModelCheckpoint callback\n",
    "simple_nn.fit(x=X_train, y=y_train, validation_data=(X_val, y_val), callbacks=[cp], epochs=100)\n"
   ]
  },
  {
   "cell_type": "code",
   "execution_count": 142,
   "metadata": {},
   "outputs": [
    {
     "name": "stdout",
     "output_type": "stream",
     "text": [
      "563/563 [==============================] - 1s 899us/step\n",
      "38/38 [==============================] - 0s 1ms/step\n"
     ]
    },
    {
     "data": {
      "text/plain": [
       "(68366.42514682867, 68345.21223610015)"
      ]
     },
     "execution_count": 142,
     "metadata": {},
     "output_type": "execute_result"
    }
   ],
   "source": [
    "# Import the load_model function from Keras to load a saved model\n",
    "from keras.models import load_model\n",
    "\n",
    "# Load the previously saved model from the specified file path\n",
    "simple_nn = load_model('model/simple_nn')\n",
    "\n",
    "# Calculate the Root Mean Squared Error (RMSE) for the training and validation datasets\n",
    "# RMSE is computed by predicting with the loaded model on the training and validation sets, and comparing the predictions with the true labels\n",
    "mse(simple_nn.predict(X_train), y_train, squared=False), mse(simple_nn.predict(X_val), y_val, squared=False)\n"
   ]
  },
  {
   "cell_type": "code",
   "execution_count": 143,
   "metadata": {},
   "outputs": [
    {
     "name": "stdout",
     "output_type": "stream",
     "text": [
      "Epoch 1/100\n",
      "541/563 [===========================>..] - ETA: 0s - loss: 8535204352.0000 - root_mean_squared_error: 92386.1719INFO:tensorflow:Assets written to: model\\medium_nn\\assets\n"
     ]
    },
    {
     "name": "stderr",
     "output_type": "stream",
     "text": [
      "INFO:tensorflow:Assets written to: model\\medium_nn\\assets\n"
     ]
    },
    {
     "name": "stdout",
     "output_type": "stream",
     "text": [
      "563/563 [==============================] - 2s 3ms/step - loss: 8384598016.0000 - root_mean_squared_error: 91567.4531 - val_loss: 4629030400.0000 - val_root_mean_squared_error: 68036.9766\n",
      "Epoch 2/100\n",
      "540/563 [===========================>..] - ETA: 0s - loss: 4425634304.0000 - root_mean_squared_error: 66525.4375INFO:tensorflow:Assets written to: model\\medium_nn\\assets\n"
     ]
    },
    {
     "name": "stderr",
     "output_type": "stream",
     "text": [
      "INFO:tensorflow:Assets written to: model\\medium_nn\\assets\n"
     ]
    },
    {
     "name": "stdout",
     "output_type": "stream",
     "text": [
      "563/563 [==============================] - 1s 3ms/step - loss: 4436937728.0000 - root_mean_squared_error: 66610.3438 - val_loss: 4626989056.0000 - val_root_mean_squared_error: 68021.9766\n",
      "Epoch 3/100\n",
      "533/563 [===========================>..] - ETA: 0s - loss: 4349052416.0000 - root_mean_squared_error: 65947.3438INFO:tensorflow:Assets written to: model\\medium_nn\\assets\n"
     ]
    },
    {
     "name": "stderr",
     "output_type": "stream",
     "text": [
      "INFO:tensorflow:Assets written to: model\\medium_nn\\assets\n"
     ]
    },
    {
     "name": "stdout",
     "output_type": "stream",
     "text": [
      "563/563 [==============================] - 1s 2ms/step - loss: 4346307072.0000 - root_mean_squared_error: 65926.5312 - val_loss: 4547468288.0000 - val_root_mean_squared_error: 67434.9219\n",
      "Epoch 4/100\n",
      "539/563 [===========================>..] - ETA: 0s - loss: 4277454592.0000 - root_mean_squared_error: 65402.2539INFO:tensorflow:Assets written to: model\\medium_nn\\assets\n"
     ]
    },
    {
     "name": "stderr",
     "output_type": "stream",
     "text": [
      "INFO:tensorflow:Assets written to: model\\medium_nn\\assets\n"
     ]
    },
    {
     "name": "stdout",
     "output_type": "stream",
     "text": [
      "563/563 [==============================] - 2s 3ms/step - loss: 4281216000.0000 - root_mean_squared_error: 65431.0000 - val_loss: 4382600704.0000 - val_root_mean_squared_error: 66201.2109\n",
      "Epoch 5/100\n",
      "549/563 [============================>.] - ETA: 0s - loss: 4236619520.0000 - root_mean_squared_error: 65089.3203INFO:tensorflow:Assets written to: model\\medium_nn\\assets\n"
     ]
    },
    {
     "name": "stderr",
     "output_type": "stream",
     "text": [
      "INFO:tensorflow:Assets written to: model\\medium_nn\\assets\n"
     ]
    },
    {
     "name": "stdout",
     "output_type": "stream",
     "text": [
      "563/563 [==============================] - 1s 2ms/step - loss: 4228617216.0000 - root_mean_squared_error: 65027.8203 - val_loss: 4215495936.0000 - val_root_mean_squared_error: 64926.8516\n",
      "Epoch 6/100\n",
      "563/563 [==============================] - 1s 2ms/step - loss: 4204321024.0000 - root_mean_squared_error: 64840.7344 - val_loss: 4308860416.0000 - val_root_mean_squared_error: 65641.9141\n",
      "Epoch 7/100\n",
      "563/563 [==============================] - 1s 2ms/step - loss: 4148977920.0000 - root_mean_squared_error: 64412.5586 - val_loss: 4383579648.0000 - val_root_mean_squared_error: 66208.6094\n",
      "Epoch 8/100\n",
      "548/563 [============================>.] - ETA: 0s - loss: 4139771904.0000 - root_mean_squared_error: 64341.0586INFO:tensorflow:Assets written to: model\\medium_nn\\assets\n"
     ]
    },
    {
     "name": "stderr",
     "output_type": "stream",
     "text": [
      "INFO:tensorflow:Assets written to: model\\medium_nn\\assets\n"
     ]
    },
    {
     "name": "stdout",
     "output_type": "stream",
     "text": [
      "563/563 [==============================] - 2s 3ms/step - loss: 4150510336.0000 - root_mean_squared_error: 64424.4531 - val_loss: 4176302848.0000 - val_root_mean_squared_error: 64624.3203\n",
      "Epoch 9/100\n",
      "563/563 [==============================] - 1s 1ms/step - loss: 4082018816.0000 - root_mean_squared_error: 63890.6797 - val_loss: 4507303936.0000 - val_root_mean_squared_error: 67136.4609\n",
      "Epoch 10/100\n",
      "563/563 [==============================] - 1s 1ms/step - loss: 4088144384.0000 - root_mean_squared_error: 63938.5977 - val_loss: 4356688896.0000 - val_root_mean_squared_error: 66005.2188\n",
      "Epoch 11/100\n",
      "533/563 [===========================>..] - ETA: 0s - loss: 4054616576.0000 - root_mean_squared_error: 63675.8711INFO:tensorflow:Assets written to: model\\medium_nn\\assets\n"
     ]
    },
    {
     "name": "stderr",
     "output_type": "stream",
     "text": [
      "INFO:tensorflow:Assets written to: model\\medium_nn\\assets\n"
     ]
    },
    {
     "name": "stdout",
     "output_type": "stream",
     "text": [
      "563/563 [==============================] - 2s 3ms/step - loss: 4085875200.0000 - root_mean_squared_error: 63920.8516 - val_loss: 4077525248.0000 - val_root_mean_squared_error: 63855.5039\n",
      "Epoch 12/100\n",
      "563/563 [==============================] - 1s 2ms/step - loss: 4067824640.0000 - root_mean_squared_error: 63779.5000 - val_loss: 4273567744.0000 - val_root_mean_squared_error: 65372.5312\n",
      "Epoch 13/100\n",
      "563/563 [==============================] - 1s 2ms/step - loss: 4055119872.0000 - root_mean_squared_error: 63679.8242 - val_loss: 4196140800.0000 - val_root_mean_squared_error: 64777.6250\n",
      "Epoch 14/100\n",
      "563/563 [==============================] - 1s 2ms/step - loss: 4044735488.0000 - root_mean_squared_error: 63598.2344 - val_loss: 4092208896.0000 - val_root_mean_squared_error: 63970.3750\n",
      "Epoch 15/100\n",
      "563/563 [==============================] - 1s 1ms/step - loss: 4043424512.0000 - root_mean_squared_error: 63587.9258 - val_loss: 4273004544.0000 - val_root_mean_squared_error: 65368.2227\n",
      "Epoch 16/100\n",
      "563/563 [==============================] - 1s 1ms/step - loss: 4017450752.0000 - root_mean_squared_error: 63383.3633 - val_loss: 4151441664.0000 - val_root_mean_squared_error: 64431.6836\n",
      "Epoch 17/100\n",
      "563/563 [==============================] - 1s 1ms/step - loss: 4031171584.0000 - root_mean_squared_error: 63491.5078 - val_loss: 4267954944.0000 - val_root_mean_squared_error: 65329.5859\n",
      "Epoch 18/100\n",
      "532/563 [===========================>..] - ETA: 0s - loss: 4085773056.0000 - root_mean_squared_error: 63920.0508INFO:tensorflow:Assets written to: model\\medium_nn\\assets\n"
     ]
    },
    {
     "name": "stderr",
     "output_type": "stream",
     "text": [
      "INFO:tensorflow:Assets written to: model\\medium_nn\\assets\n"
     ]
    },
    {
     "name": "stdout",
     "output_type": "stream",
     "text": [
      "563/563 [==============================] - 2s 4ms/step - loss: 4068424192.0000 - root_mean_squared_error: 63784.1992 - val_loss: 4051517952.0000 - val_root_mean_squared_error: 63651.5352\n",
      "Epoch 19/100\n",
      "563/563 [==============================] - 1s 1ms/step - loss: 4027416320.0000 - root_mean_squared_error: 63461.9297 - val_loss: 4256027392.0000 - val_root_mean_squared_error: 65238.2344\n",
      "Epoch 20/100\n",
      "563/563 [==============================] - 1s 1ms/step - loss: 3977448192.0000 - root_mean_squared_error: 63067.0117 - val_loss: 4615407104.0000 - val_root_mean_squared_error: 67936.7891\n",
      "Epoch 21/100\n",
      "563/563 [==============================] - 1s 1ms/step - loss: 3949278720.0000 - root_mean_squared_error: 62843.2852 - val_loss: 4242370304.0000 - val_root_mean_squared_error: 65133.4805\n",
      "Epoch 22/100\n",
      "541/563 [===========================>..] - ETA: 0s - loss: 3869771264.0000 - root_mean_squared_error: 62207.4844INFO:tensorflow:Assets written to: model\\medium_nn\\assets\n"
     ]
    },
    {
     "name": "stderr",
     "output_type": "stream",
     "text": [
      "INFO:tensorflow:Assets written to: model\\medium_nn\\assets\n"
     ]
    },
    {
     "name": "stdout",
     "output_type": "stream",
     "text": [
      "563/563 [==============================] - 3s 5ms/step - loss: 3870524160.0000 - root_mean_squared_error: 62213.5352 - val_loss: 4041085952.0000 - val_root_mean_squared_error: 63569.5352\n",
      "Epoch 23/100\n",
      "538/563 [===========================>..] - ETA: 0s - loss: 3842349312.0000 - root_mean_squared_error: 61986.6875INFO:tensorflow:Assets written to: model\\medium_nn\\assets\n"
     ]
    },
    {
     "name": "stderr",
     "output_type": "stream",
     "text": [
      "INFO:tensorflow:Assets written to: model\\medium_nn\\assets\n"
     ]
    },
    {
     "name": "stdout",
     "output_type": "stream",
     "text": [
      "563/563 [==============================] - 2s 3ms/step - loss: 3832869888.0000 - root_mean_squared_error: 61910.1758 - val_loss: 3855822592.0000 - val_root_mean_squared_error: 62095.2695\n",
      "Epoch 24/100\n",
      "563/563 [==============================] - 1s 1ms/step - loss: 3805505792.0000 - root_mean_squared_error: 61688.7812 - val_loss: 3889067008.0000 - val_root_mean_squared_error: 62362.3828\n",
      "Epoch 25/100\n",
      "563/563 [==============================] - 1s 1ms/step - loss: 3811920896.0000 - root_mean_squared_error: 61740.7539 - val_loss: 3921535488.0000 - val_root_mean_squared_error: 62622.1641\n",
      "Epoch 26/100\n",
      "551/563 [============================>.] - ETA: 0s - loss: 3781317888.0000 - root_mean_squared_error: 61492.4219INFO:tensorflow:Assets written to: model\\medium_nn\\assets\n"
     ]
    },
    {
     "name": "stderr",
     "output_type": "stream",
     "text": [
      "INFO:tensorflow:Assets written to: model\\medium_nn\\assets\n"
     ]
    },
    {
     "name": "stdout",
     "output_type": "stream",
     "text": [
      "563/563 [==============================] - 4s 7ms/step - loss: 3776600832.0000 - root_mean_squared_error: 61454.0547 - val_loss: 3764706816.0000 - val_root_mean_squared_error: 61357.2070\n",
      "Epoch 27/100\n",
      "563/563 [==============================] - 1s 1ms/step - loss: 3760771584.0000 - root_mean_squared_error: 61325.1289 - val_loss: 3861570304.0000 - val_root_mean_squared_error: 62141.5352\n",
      "Epoch 28/100\n",
      "563/563 [==============================] - 1s 1ms/step - loss: 3753372928.0000 - root_mean_squared_error: 61264.7773 - val_loss: 3943340032.0000 - val_root_mean_squared_error: 62796.0195\n",
      "Epoch 29/100\n",
      "563/563 [==============================] - 1s 1ms/step - loss: 3616684288.0000 - root_mean_squared_error: 60138.8750 - val_loss: 4158629888.0000 - val_root_mean_squared_error: 64487.4414\n",
      "Epoch 30/100\n",
      "550/563 [============================>.] - ETA: 0s - loss: 3533388288.0000 - root_mean_squared_error: 59442.3125INFO:tensorflow:Assets written to: model\\medium_nn\\assets\n"
     ]
    },
    {
     "name": "stderr",
     "output_type": "stream",
     "text": [
      "INFO:tensorflow:Assets written to: model\\medium_nn\\assets\n"
     ]
    },
    {
     "name": "stdout",
     "output_type": "stream",
     "text": [
      "563/563 [==============================] - 3s 5ms/step - loss: 3528022784.0000 - root_mean_squared_error: 59397.1602 - val_loss: 3645197568.0000 - val_root_mean_squared_error: 60375.4727\n",
      "Epoch 31/100\n",
      "563/563 [==============================] - 1s 1ms/step - loss: 3479788800.0000 - root_mean_squared_error: 58989.7344 - val_loss: 3741696768.0000 - val_root_mean_squared_error: 61169.4102\n",
      "Epoch 32/100\n",
      "563/563 [==============================] - 1s 2ms/step - loss: 3442520064.0000 - root_mean_squared_error: 58672.9922 - val_loss: 3773520128.0000 - val_root_mean_squared_error: 61428.9844\n",
      "Epoch 33/100\n",
      "529/563 [===========================>..] - ETA: 0s - loss: 3455323904.0000 - root_mean_squared_error: 58782.0039INFO:tensorflow:Assets written to: model\\medium_nn\\assets\n"
     ]
    },
    {
     "name": "stderr",
     "output_type": "stream",
     "text": [
      "INFO:tensorflow:Assets written to: model\\medium_nn\\assets\n"
     ]
    },
    {
     "name": "stdout",
     "output_type": "stream",
     "text": [
      "563/563 [==============================] - 2s 3ms/step - loss: 3444214528.0000 - root_mean_squared_error: 58687.4297 - val_loss: 3585088256.0000 - val_root_mean_squared_error: 59875.6055\n",
      "Epoch 34/100\n",
      "563/563 [==============================] - 1s 1ms/step - loss: 3430129408.0000 - root_mean_squared_error: 58567.3086 - val_loss: 3779610368.0000 - val_root_mean_squared_error: 61478.5352\n",
      "Epoch 35/100\n",
      "563/563 [==============================] - 1s 1ms/step - loss: 3397723392.0000 - root_mean_squared_error: 58289.9922 - val_loss: 3654915584.0000 - val_root_mean_squared_error: 60455.8984\n",
      "Epoch 36/100\n",
      "557/563 [============================>.] - ETA: 0s - loss: 3389592064.0000 - root_mean_squared_error: 58220.2031INFO:tensorflow:Assets written to: model\\medium_nn\\assets\n"
     ]
    },
    {
     "name": "stderr",
     "output_type": "stream",
     "text": [
      "INFO:tensorflow:Assets written to: model\\medium_nn\\assets\n"
     ]
    },
    {
     "name": "stdout",
     "output_type": "stream",
     "text": [
      "563/563 [==============================] - 2s 3ms/step - loss: 3382370048.0000 - root_mean_squared_error: 58158.1484 - val_loss: 3571254784.0000 - val_root_mean_squared_error: 59759.9766\n",
      "Epoch 37/100\n",
      "563/563 [==============================] - 1s 1ms/step - loss: 3354126336.0000 - root_mean_squared_error: 57914.8203 - val_loss: 3942889472.0000 - val_root_mean_squared_error: 62792.4336\n",
      "Epoch 38/100\n",
      "563/563 [==============================] - 1s 1ms/step - loss: 3346743296.0000 - root_mean_squared_error: 57851.0430 - val_loss: 3631025920.0000 - val_root_mean_squared_error: 60257.9961\n",
      "Epoch 39/100\n",
      "541/563 [===========================>..] - ETA: 0s - loss: 3359160832.0000 - root_mean_squared_error: 57958.2695INFO:tensorflow:Assets written to: model\\medium_nn\\assets\n"
     ]
    },
    {
     "name": "stderr",
     "output_type": "stream",
     "text": [
      "INFO:tensorflow:Assets written to: model\\medium_nn\\assets\n"
     ]
    },
    {
     "name": "stdout",
     "output_type": "stream",
     "text": [
      "563/563 [==============================] - 1s 3ms/step - loss: 3348762624.0000 - root_mean_squared_error: 57868.4961 - val_loss: 3532951296.0000 - val_root_mean_squared_error: 59438.6328\n",
      "Epoch 40/100\n",
      "563/563 [==============================] - 1s 2ms/step - loss: 3303615488.0000 - root_mean_squared_error: 57477.0859 - val_loss: 3574054400.0000 - val_root_mean_squared_error: 59783.3945\n",
      "Epoch 41/100\n",
      "563/563 [==============================] - 1s 2ms/step - loss: 3289319936.0000 - root_mean_squared_error: 57352.5938 - val_loss: 3566394112.0000 - val_root_mean_squared_error: 59719.2930\n",
      "Epoch 42/100\n",
      "563/563 [==============================] - 1s 1ms/step - loss: 3286894848.0000 - root_mean_squared_error: 57331.4492 - val_loss: 3722090752.0000 - val_root_mean_squared_error: 61008.9414\n",
      "Epoch 43/100\n",
      "563/563 [==============================] - 1s 2ms/step - loss: 3244181760.0000 - root_mean_squared_error: 56957.7188 - val_loss: 3648002816.0000 - val_root_mean_squared_error: 60398.6992\n",
      "Epoch 44/100\n",
      "543/563 [===========================>..] - ETA: 0s - loss: 3240216064.0000 - root_mean_squared_error: 56922.8945INFO:tensorflow:Assets written to: model\\medium_nn\\assets\n"
     ]
    },
    {
     "name": "stderr",
     "output_type": "stream",
     "text": [
      "INFO:tensorflow:Assets written to: model\\medium_nn\\assets\n"
     ]
    },
    {
     "name": "stdout",
     "output_type": "stream",
     "text": [
      "563/563 [==============================] - 2s 4ms/step - loss: 3234988800.0000 - root_mean_squared_error: 56876.9609 - val_loss: 3450818048.0000 - val_root_mean_squared_error: 58743.6641\n",
      "Epoch 45/100\n",
      "563/563 [==============================] - 1s 2ms/step - loss: 3221664256.0000 - root_mean_squared_error: 56759.7070 - val_loss: 3478192896.0000 - val_root_mean_squared_error: 58976.2070\n",
      "Epoch 46/100\n",
      "563/563 [==============================] - 1s 1ms/step - loss: 3193338368.0000 - root_mean_squared_error: 56509.6289 - val_loss: 3537275648.0000 - val_root_mean_squared_error: 59475.0000\n",
      "Epoch 47/100\n",
      "563/563 [==============================] - 1s 1ms/step - loss: 3179274752.0000 - root_mean_squared_error: 56385.0586 - val_loss: 3514201600.0000 - val_root_mean_squared_error: 59280.7031\n",
      "Epoch 48/100\n",
      "563/563 [==============================] - 1s 1ms/step - loss: 3175167232.0000 - root_mean_squared_error: 56348.6211 - val_loss: 3534855168.0000 - val_root_mean_squared_error: 59454.6484\n",
      "Epoch 49/100\n",
      "548/563 [============================>.] - ETA: 0s - loss: 3167971840.0000 - root_mean_squared_error: 56284.7383INFO:tensorflow:Assets written to: model\\medium_nn\\assets\n"
     ]
    },
    {
     "name": "stderr",
     "output_type": "stream",
     "text": [
      "INFO:tensorflow:Assets written to: model\\medium_nn\\assets\n"
     ]
    },
    {
     "name": "stdout",
     "output_type": "stream",
     "text": [
      "563/563 [==============================] - 5s 8ms/step - loss: 3161762560.0000 - root_mean_squared_error: 56229.5508 - val_loss: 3446850560.0000 - val_root_mean_squared_error: 58709.8828\n",
      "Epoch 50/100\n",
      "515/563 [==========================>...] - ETA: 0s - loss: 3186428416.0000 - root_mean_squared_error: 56448.4570INFO:tensorflow:Assets written to: model\\medium_nn\\assets\n"
     ]
    },
    {
     "name": "stderr",
     "output_type": "stream",
     "text": [
      "INFO:tensorflow:Assets written to: model\\medium_nn\\assets\n"
     ]
    },
    {
     "name": "stdout",
     "output_type": "stream",
     "text": [
      "563/563 [==============================] - 3s 5ms/step - loss: 3169333504.0000 - root_mean_squared_error: 56296.8320 - val_loss: 3423771904.0000 - val_root_mean_squared_error: 58513.0078\n",
      "Epoch 51/100\n",
      "563/563 [==============================] - 1s 1ms/step - loss: 3168915456.0000 - root_mean_squared_error: 56293.1211 - val_loss: 3472835072.0000 - val_root_mean_squared_error: 58930.7656\n",
      "Epoch 52/100\n",
      "563/563 [==============================] - 1s 1ms/step - loss: 3137316352.0000 - root_mean_squared_error: 56011.7500 - val_loss: 3852243712.0000 - val_root_mean_squared_error: 62066.4453\n",
      "Epoch 53/100\n",
      "511/563 [==========================>...] - ETA: 0s - loss: 3131690240.0000 - root_mean_squared_error: 55961.5078INFO:tensorflow:Assets written to: model\\medium_nn\\assets\n"
     ]
    },
    {
     "name": "stderr",
     "output_type": "stream",
     "text": [
      "INFO:tensorflow:Assets written to: model\\medium_nn\\assets\n"
     ]
    },
    {
     "name": "stdout",
     "output_type": "stream",
     "text": [
      "563/563 [==============================] - 1s 2ms/step - loss: 3153687040.0000 - root_mean_squared_error: 56157.6992 - val_loss: 3402126336.0000 - val_root_mean_squared_error: 58327.7500\n",
      "Epoch 54/100\n",
      "508/563 [==========================>...] - ETA: 0s - loss: 3138829312.0000 - root_mean_squared_error: 56025.2578INFO:tensorflow:Assets written to: model\\medium_nn\\assets\n"
     ]
    },
    {
     "name": "stderr",
     "output_type": "stream",
     "text": [
      "INFO:tensorflow:Assets written to: model\\medium_nn\\assets\n"
     ]
    },
    {
     "name": "stdout",
     "output_type": "stream",
     "text": [
      "563/563 [==============================] - 1s 2ms/step - loss: 3108499712.0000 - root_mean_squared_error: 55753.9219 - val_loss: 3369442048.0000 - val_root_mean_squared_error: 58046.8945\n",
      "Epoch 55/100\n",
      "563/563 [==============================] - 1s 970us/step - loss: 3118429952.0000 - root_mean_squared_error: 55842.9023 - val_loss: 3396071936.0000 - val_root_mean_squared_error: 58275.8281\n",
      "Epoch 56/100\n",
      "563/563 [==============================] - 1s 1ms/step - loss: 3105490176.0000 - root_mean_squared_error: 55726.9258 - val_loss: 3590696960.0000 - val_root_mean_squared_error: 59922.4258\n",
      "Epoch 57/100\n",
      "562/563 [============================>.] - ETA: 0s - loss: 3058835200.0000 - root_mean_squared_error: 55306.7383INFO:tensorflow:Assets written to: model\\medium_nn\\assets\n"
     ]
    },
    {
     "name": "stderr",
     "output_type": "stream",
     "text": [
      "INFO:tensorflow:Assets written to: model\\medium_nn\\assets\n"
     ]
    },
    {
     "name": "stdout",
     "output_type": "stream",
     "text": [
      "563/563 [==============================] - 1s 2ms/step - loss: 3061311232.0000 - root_mean_squared_error: 55329.1172 - val_loss: 3335324928.0000 - val_root_mean_squared_error: 57752.2734\n",
      "Epoch 58/100\n",
      "516/563 [==========================>...] - ETA: 0s - loss: 3075080960.0000 - root_mean_squared_error: 55453.4141INFO:tensorflow:Assets written to: model\\medium_nn\\assets\n"
     ]
    },
    {
     "name": "stderr",
     "output_type": "stream",
     "text": [
      "INFO:tensorflow:Assets written to: model\\medium_nn\\assets\n"
     ]
    },
    {
     "name": "stdout",
     "output_type": "stream",
     "text": [
      "563/563 [==============================] - 1s 2ms/step - loss: 3076727808.0000 - root_mean_squared_error: 55468.2578 - val_loss: 3316533504.0000 - val_root_mean_squared_error: 57589.3516\n",
      "Epoch 59/100\n",
      "560/563 [============================>.] - ETA: 0s - loss: 3056074752.0000 - root_mean_squared_error: 55281.7773INFO:tensorflow:Assets written to: model\\medium_nn\\assets\n"
     ]
    },
    {
     "name": "stderr",
     "output_type": "stream",
     "text": [
      "INFO:tensorflow:Assets written to: model\\medium_nn\\assets\n"
     ]
    },
    {
     "name": "stdout",
     "output_type": "stream",
     "text": [
      "563/563 [==============================] - 1s 2ms/step - loss: 3059504640.0000 - root_mean_squared_error: 55312.7891 - val_loss: 3310207744.0000 - val_root_mean_squared_error: 57534.4062\n",
      "Epoch 60/100\n",
      "535/563 [===========================>..] - ETA: 0s - loss: 3047614976.0000 - root_mean_squared_error: 55205.2070INFO:tensorflow:Assets written to: model\\medium_nn\\assets\n"
     ]
    },
    {
     "name": "stderr",
     "output_type": "stream",
     "text": [
      "INFO:tensorflow:Assets written to: model\\medium_nn\\assets\n"
     ]
    },
    {
     "name": "stdout",
     "output_type": "stream",
     "text": [
      "563/563 [==============================] - 1s 2ms/step - loss: 3034308864.0000 - root_mean_squared_error: 55084.5625 - val_loss: 3214677248.0000 - val_root_mean_squared_error: 56698.1250\n",
      "Epoch 61/100\n",
      "563/563 [==============================] - 1s 986us/step - loss: 3025576448.0000 - root_mean_squared_error: 55005.2383 - val_loss: 3245887744.0000 - val_root_mean_squared_error: 56972.6914\n",
      "Epoch 62/100\n",
      "563/563 [==============================] - 1s 1ms/step - loss: 2995742976.0000 - root_mean_squared_error: 54733.3789 - val_loss: 3333974528.0000 - val_root_mean_squared_error: 57740.5781\n",
      "Epoch 63/100\n",
      "563/563 [==============================] - 1s 996us/step - loss: 2996697600.0000 - root_mean_squared_error: 54742.1016 - val_loss: 3273389824.0000 - val_root_mean_squared_error: 57213.5469\n",
      "Epoch 64/100\n",
      "563/563 [==============================] - 1s 972us/step - loss: 2952943872.0000 - root_mean_squared_error: 54340.9961 - val_loss: 3456548608.0000 - val_root_mean_squared_error: 58792.4180\n",
      "Epoch 65/100\n",
      "508/563 [==========================>...] - ETA: 0s - loss: 2963255296.0000 - root_mean_squared_error: 54435.7891INFO:tensorflow:Assets written to: model\\medium_nn\\assets\n"
     ]
    },
    {
     "name": "stderr",
     "output_type": "stream",
     "text": [
      "INFO:tensorflow:Assets written to: model\\medium_nn\\assets\n"
     ]
    },
    {
     "name": "stdout",
     "output_type": "stream",
     "text": [
      "563/563 [==============================] - 1s 2ms/step - loss: 2987983616.0000 - root_mean_squared_error: 54662.4531 - val_loss: 3206707200.0000 - val_root_mean_squared_error: 56627.7969\n",
      "Epoch 66/100\n",
      "563/563 [==============================] - ETA: 0s - loss: 2966766592.0000 - root_mean_squared_error: 54468.0312INFO:tensorflow:Assets written to: model\\medium_nn\\assets\n"
     ]
    },
    {
     "name": "stderr",
     "output_type": "stream",
     "text": [
      "INFO:tensorflow:Assets written to: model\\medium_nn\\assets\n"
     ]
    },
    {
     "name": "stdout",
     "output_type": "stream",
     "text": [
      "563/563 [==============================] - 1s 2ms/step - loss: 2966766592.0000 - root_mean_squared_error: 54468.0312 - val_loss: 3093697536.0000 - val_root_mean_squared_error: 55621.0156\n",
      "Epoch 67/100\n",
      "563/563 [==============================] - 1s 992us/step - loss: 2941613568.0000 - root_mean_squared_error: 54236.6445 - val_loss: 3230517760.0000 - val_root_mean_squared_error: 56837.6445\n",
      "Epoch 68/100\n",
      "563/563 [==============================] - 1s 1ms/step - loss: 2916442624.0000 - root_mean_squared_error: 54004.0977 - val_loss: 3185541888.0000 - val_root_mean_squared_error: 56440.6055\n",
      "Epoch 69/100\n",
      "563/563 [==============================] - 1s 1ms/step - loss: 2904493312.0000 - root_mean_squared_error: 53893.3516 - val_loss: 3141880320.0000 - val_root_mean_squared_error: 56052.4766\n",
      "Epoch 70/100\n",
      "563/563 [==============================] - 1s 2ms/step - loss: 2914385152.0000 - root_mean_squared_error: 53985.0469 - val_loss: 3120242176.0000 - val_root_mean_squared_error: 55859.1289\n",
      "Epoch 71/100\n",
      "563/563 [==============================] - 1s 1ms/step - loss: 2889015552.0000 - root_mean_squared_error: 53749.5625 - val_loss: 3196310528.0000 - val_root_mean_squared_error: 56535.9219\n",
      "Epoch 72/100\n",
      "562/563 [============================>.] - ETA: 0s - loss: 2885473024.0000 - root_mean_squared_error: 53716.5977INFO:tensorflow:Assets written to: model\\medium_nn\\assets\n"
     ]
    },
    {
     "name": "stderr",
     "output_type": "stream",
     "text": [
      "INFO:tensorflow:Assets written to: model\\medium_nn\\assets\n"
     ]
    },
    {
     "name": "stdout",
     "output_type": "stream",
     "text": [
      "563/563 [==============================] - 2s 3ms/step - loss: 2883618560.0000 - root_mean_squared_error: 53699.3359 - val_loss: 3082829056.0000 - val_root_mean_squared_error: 55523.2305\n",
      "Epoch 73/100\n",
      "563/563 [==============================] - 1s 1ms/step - loss: 2867452672.0000 - root_mean_squared_error: 53548.6016 - val_loss: 3375207680.0000 - val_root_mean_squared_error: 58096.5391\n",
      "Epoch 74/100\n",
      "563/563 [==============================] - 1s 1ms/step - loss: 2869716736.0000 - root_mean_squared_error: 53569.7383 - val_loss: 3259259904.0000 - val_root_mean_squared_error: 57089.9297\n",
      "Epoch 75/100\n",
      "563/563 [==============================] - 1s 1ms/step - loss: 2850851072.0000 - root_mean_squared_error: 53393.3633 - val_loss: 3101290240.0000 - val_root_mean_squared_error: 55689.2305\n",
      "Epoch 76/100\n",
      "551/563 [============================>.] - ETA: 0s - loss: 2828572416.0000 - root_mean_squared_error: 53184.3242INFO:tensorflow:Assets written to: model\\medium_nn\\assets\n"
     ]
    },
    {
     "name": "stderr",
     "output_type": "stream",
     "text": [
      "INFO:tensorflow:Assets written to: model\\medium_nn\\assets\n"
     ]
    },
    {
     "name": "stdout",
     "output_type": "stream",
     "text": [
      "563/563 [==============================] - 2s 3ms/step - loss: 2828988672.0000 - root_mean_squared_error: 53188.2383 - val_loss: 2995429120.0000 - val_root_mean_squared_error: 54730.5117\n",
      "Epoch 77/100\n",
      "563/563 [==============================] - 1s 1ms/step - loss: 2841489152.0000 - root_mean_squared_error: 53305.6211 - val_loss: 3027127040.0000 - val_root_mean_squared_error: 55019.3320\n",
      "Epoch 78/100\n",
      "563/563 [==============================] - 1s 1ms/step - loss: 2835122944.0000 - root_mean_squared_error: 53245.8711 - val_loss: 3328466432.0000 - val_root_mean_squared_error: 57692.8633\n",
      "Epoch 79/100\n",
      "563/563 [==============================] - 1s 1ms/step - loss: 2804872704.0000 - root_mean_squared_error: 52961.0508 - val_loss: 3198701312.0000 - val_root_mean_squared_error: 56557.0625\n",
      "Epoch 80/100\n",
      "563/563 [==============================] - 1s 1ms/step - loss: 2821513472.0000 - root_mean_squared_error: 53117.9219 - val_loss: 3013836288.0000 - val_root_mean_squared_error: 54898.4180\n",
      "Epoch 81/100\n",
      "563/563 [==============================] - 1s 974us/step - loss: 2811737088.0000 - root_mean_squared_error: 53025.8164 - val_loss: 3077135616.0000 - val_root_mean_squared_error: 55471.9336\n",
      "Epoch 82/100\n",
      "563/563 [==============================] - 1s 971us/step - loss: 2795686400.0000 - root_mean_squared_error: 52874.2500 - val_loss: 3051426560.0000 - val_root_mean_squared_error: 55239.7188\n",
      "Epoch 83/100\n",
      "563/563 [==============================] - 1s 989us/step - loss: 2775170560.0000 - root_mean_squared_error: 52679.8867 - val_loss: 3112656128.0000 - val_root_mean_squared_error: 55791.1836\n",
      "Epoch 84/100\n",
      "563/563 [==============================] - 1s 991us/step - loss: 2772668160.0000 - root_mean_squared_error: 52656.1328 - val_loss: 3043762176.0000 - val_root_mean_squared_error: 55170.3008\n",
      "Epoch 85/100\n",
      "563/563 [==============================] - 1s 1ms/step - loss: 2781974784.0000 - root_mean_squared_error: 52744.4297 - val_loss: 3045711872.0000 - val_root_mean_squared_error: 55187.9688\n",
      "Epoch 86/100\n",
      "563/563 [==============================] - ETA: 0s - loss: 2787316992.0000 - root_mean_squared_error: 52795.0469INFO:tensorflow:Assets written to: model\\medium_nn\\assets\n"
     ]
    },
    {
     "name": "stderr",
     "output_type": "stream",
     "text": [
      "INFO:tensorflow:Assets written to: model\\medium_nn\\assets\n"
     ]
    },
    {
     "name": "stdout",
     "output_type": "stream",
     "text": [
      "563/563 [==============================] - 1s 2ms/step - loss: 2787316992.0000 - root_mean_squared_error: 52795.0469 - val_loss: 2923928064.0000 - val_root_mean_squared_error: 54073.3594\n",
      "Epoch 87/100\n",
      "563/563 [==============================] - 1s 985us/step - loss: 2782013184.0000 - root_mean_squared_error: 52744.7930 - val_loss: 3045891584.0000 - val_root_mean_squared_error: 55189.5977\n",
      "Epoch 88/100\n",
      "553/563 [============================>.] - ETA: 0s - loss: 2782037504.0000 - root_mean_squared_error: 52745.0234INFO:tensorflow:Assets written to: model\\medium_nn\\assets\n"
     ]
    },
    {
     "name": "stderr",
     "output_type": "stream",
     "text": [
      "INFO:tensorflow:Assets written to: model\\medium_nn\\assets\n"
     ]
    },
    {
     "name": "stdout",
     "output_type": "stream",
     "text": [
      "563/563 [==============================] - 1s 2ms/step - loss: 2777242112.0000 - root_mean_squared_error: 52699.5469 - val_loss: 2895762176.0000 - val_root_mean_squared_error: 53812.2852\n",
      "Epoch 89/100\n",
      "563/563 [==============================] - 1s 1ms/step - loss: 2780069632.0000 - root_mean_squared_error: 52726.3672 - val_loss: 3100586496.0000 - val_root_mean_squared_error: 55682.9102\n",
      "Epoch 90/100\n",
      "563/563 [==============================] - 1s 974us/step - loss: 2775448576.0000 - root_mean_squared_error: 52682.5273 - val_loss: 3058980096.0000 - val_root_mean_squared_error: 55308.0469\n",
      "Epoch 91/100\n",
      "563/563 [==============================] - 1s 1ms/step - loss: 2772164608.0000 - root_mean_squared_error: 52651.3477 - val_loss: 3087939840.0000 - val_root_mean_squared_error: 55569.2344\n",
      "Epoch 92/100\n",
      "563/563 [==============================] - 1s 1ms/step - loss: 2737647872.0000 - root_mean_squared_error: 52322.5352 - val_loss: 3357125632.0000 - val_root_mean_squared_error: 57940.7070\n",
      "Epoch 93/100\n",
      "563/563 [==============================] - 1s 979us/step - loss: 2756135424.0000 - root_mean_squared_error: 52498.9102 - val_loss: 3115744512.0000 - val_root_mean_squared_error: 55818.8555\n",
      "Epoch 94/100\n",
      "563/563 [==============================] - 1s 1ms/step - loss: 2748056832.0000 - root_mean_squared_error: 52421.9102 - val_loss: 2988726272.0000 - val_root_mean_squared_error: 54669.2461\n",
      "Epoch 95/100\n",
      "563/563 [==============================] - 1s 966us/step - loss: 2746826496.0000 - root_mean_squared_error: 52410.1758 - val_loss: 3050082304.0000 - val_root_mean_squared_error: 55227.5508\n",
      "Epoch 96/100\n",
      "517/563 [==========================>...] - ETA: 0s - loss: 2724645376.0000 - root_mean_squared_error: 52198.1367INFO:tensorflow:Assets written to: model\\medium_nn\\assets\n"
     ]
    },
    {
     "name": "stderr",
     "output_type": "stream",
     "text": [
      "INFO:tensorflow:Assets written to: model\\medium_nn\\assets\n"
     ]
    },
    {
     "name": "stdout",
     "output_type": "stream",
     "text": [
      "563/563 [==============================] - 1s 3ms/step - loss: 2730630656.0000 - root_mean_squared_error: 52255.4375 - val_loss: 2891935744.0000 - val_root_mean_squared_error: 53776.7227\n",
      "Epoch 97/100\n",
      "526/563 [===========================>..] - ETA: 0s - loss: 2738070272.0000 - root_mean_squared_error: 52326.5742INFO:tensorflow:Assets written to: model\\medium_nn\\assets\n"
     ]
    },
    {
     "name": "stderr",
     "output_type": "stream",
     "text": [
      "INFO:tensorflow:Assets written to: model\\medium_nn\\assets\n"
     ]
    },
    {
     "name": "stdout",
     "output_type": "stream",
     "text": [
      "563/563 [==============================] - 1s 2ms/step - loss: 2730262272.0000 - root_mean_squared_error: 52251.9102 - val_loss: 2878033152.0000 - val_root_mean_squared_error: 53647.3047\n",
      "Epoch 98/100\n",
      "563/563 [==============================] - 1s 1ms/step - loss: 2728492032.0000 - root_mean_squared_error: 52234.9688 - val_loss: 3185945344.0000 - val_root_mean_squared_error: 56444.1797\n",
      "Epoch 99/100\n",
      "563/563 [==============================] - 1s 1ms/step - loss: 2720795904.0000 - root_mean_squared_error: 52161.2500 - val_loss: 2914977792.0000 - val_root_mean_squared_error: 53990.5352\n",
      "Epoch 100/100\n",
      "563/563 [==============================] - 1s 1ms/step - loss: 2712110336.0000 - root_mean_squared_error: 52077.9258 - val_loss: 3063652608.0000 - val_root_mean_squared_error: 55350.2734\n"
     ]
    },
    {
     "data": {
      "text/plain": [
       "<keras.src.callbacks.History at 0x2b3edc3d1d0>"
      ]
     },
     "execution_count": 143,
     "metadata": {},
     "output_type": "execute_result"
    }
   ],
   "source": [
    "# Initialize a Sequential neural network model with more complexity\n",
    "medium_nn = Sequential()\n",
    "\n",
    "# Add an input layer specifying the input shape (13 features)\n",
    "medium_nn.add(InputLayer((13,)))\n",
    "\n",
    "# Add a dense hidden layer with 32 units and ReLU activation function\n",
    "medium_nn.add(Dense(32, 'relu'))\n",
    "\n",
    "# Add another dense hidden layer with 16 units and ReLU activation function\n",
    "medium_nn.add(Dense(16, 'relu'))\n",
    "\n",
    "# Add an output layer with 1 unit and linear activation function for regression\n",
    "medium_nn.add(Dense(1, 'linear'))\n",
    "\n",
    "# Initialize the Adam optimizer with a learning rate of 0.1\n",
    "opt = Adam(learning_rate=0.1)\n",
    "\n",
    "# Set up a ModelCheckpoint callback to save the best model during training\n",
    "cp = ModelCheckpoint('model/medium_nn', save_best_only=True)\n",
    "\n",
    "# Compile the model with mean squared error loss, Adam optimizer, and Root Mean Squared Error as a metric\n",
    "medium_nn.compile(optimizer=opt, loss='mse', metrics=[RootMeanSquaredError()])\n",
    "\n",
    "# Train the model on the training data, with validation data and ModelCheckpoint callback\n",
    "medium_nn.fit(x=X_train, y=y_train, validation_data=(X_val, y_val), callbacks=[cp], epochs=100)\n"
   ]
  },
  {
   "cell_type": "code",
   "execution_count": 144,
   "metadata": {},
   "outputs": [
    {
     "name": "stdout",
     "output_type": "stream",
     "text": [
      "563/563 [==============================] - 1s 846us/step\n",
      "38/38 [==============================] - 0s 903us/step\n"
     ]
    },
    {
     "data": {
      "text/plain": [
       "(51594.09003087886, 53647.301013255776)"
      ]
     },
     "execution_count": 144,
     "metadata": {},
     "output_type": "execute_result"
    }
   ],
   "source": [
    "# Import the load_model function from Keras to load a saved model\n",
    "from keras.models import load_model\n",
    "\n",
    "# Load the previously saved medium neural network model from the specified file path\n",
    "medium_nn = load_model('model/medium_nn')\n",
    "\n",
    "# Calculate the Root Mean Squared Error (RMSE) for the training and validation datasets\n",
    "# RMSE is computed by predicting with the loaded model on the training and validation sets, and comparing the predictions with the true labels\n",
    "mse(medium_nn.predict(X_train), y_train, squared=False), mse(medium_nn.predict(X_val), y_val, squared=False)\n"
   ]
  },
  {
   "cell_type": "code",
   "execution_count": 145,
   "metadata": {},
   "outputs": [
    {
     "name": "stdout",
     "output_type": "stream",
     "text": [
      "Epoch 1/100\n",
      "547/563 [============================>.] - ETA: 0s - loss: 6170693632.0000 - root_mean_squared_error: 78553.7656INFO:tensorflow:Assets written to: model\\large_nn\\assets\n"
     ]
    },
    {
     "name": "stderr",
     "output_type": "stream",
     "text": [
      "INFO:tensorflow:Assets written to: model\\large_nn\\assets\n"
     ]
    },
    {
     "name": "stdout",
     "output_type": "stream",
     "text": [
      "563/563 [==============================] - 3s 4ms/step - loss: 6140896768.0000 - root_mean_squared_error: 78363.8750 - val_loss: 6603815424.0000 - val_root_mean_squared_error: 81263.8594\n",
      "Epoch 2/100\n",
      "555/563 [============================>.] - ETA: 0s - loss: 4567683072.0000 - root_mean_squared_error: 67584.6328INFO:tensorflow:Assets written to: model\\large_nn\\assets\n"
     ]
    },
    {
     "name": "stderr",
     "output_type": "stream",
     "text": [
      "INFO:tensorflow:Assets written to: model\\large_nn\\assets\n"
     ]
    },
    {
     "name": "stdout",
     "output_type": "stream",
     "text": [
      "563/563 [==============================] - 2s 4ms/step - loss: 4562497536.0000 - root_mean_squared_error: 67546.2656 - val_loss: 4270978560.0000 - val_root_mean_squared_error: 65352.7227\n",
      "Epoch 3/100\n",
      "563/563 [==============================] - 1s 2ms/step - loss: 4318077952.0000 - root_mean_squared_error: 65712.0859 - val_loss: 4569989120.0000 - val_root_mean_squared_error: 67601.6953\n",
      "Epoch 4/100\n",
      "540/563 [===========================>..] - ETA: 0s - loss: 3909513728.0000 - root_mean_squared_error: 62526.1055INFO:tensorflow:Assets written to: model\\large_nn\\assets\n"
     ]
    },
    {
     "name": "stderr",
     "output_type": "stream",
     "text": [
      "INFO:tensorflow:Assets written to: model\\large_nn\\assets\n"
     ]
    },
    {
     "name": "stdout",
     "output_type": "stream",
     "text": [
      "563/563 [==============================] - 2s 4ms/step - loss: 3881496576.0000 - root_mean_squared_error: 62301.6562 - val_loss: 3844854016.0000 - val_root_mean_squared_error: 62006.8867\n",
      "Epoch 5/100\n",
      "563/563 [==============================] - 1s 2ms/step - loss: 3872848896.0000 - root_mean_squared_error: 62232.2188 - val_loss: 3855821824.0000 - val_root_mean_squared_error: 62095.2656\n",
      "Epoch 6/100\n",
      "563/563 [==============================] - 1s 2ms/step - loss: 3577065216.0000 - root_mean_squared_error: 59808.5703 - val_loss: 4009927168.0000 - val_root_mean_squared_error: 63323.9844\n",
      "Epoch 7/100\n",
      "563/563 [==============================] - 1s 2ms/step - loss: 3640608768.0000 - root_mean_squared_error: 60337.4570 - val_loss: 4379194880.0000 - val_root_mean_squared_error: 66175.4844\n",
      "Epoch 8/100\n",
      "537/563 [===========================>..] - ETA: 0s - loss: 3456019968.0000 - root_mean_squared_error: 58787.9219INFO:tensorflow:Assets written to: model\\large_nn\\assets\n"
     ]
    },
    {
     "name": "stderr",
     "output_type": "stream",
     "text": [
      "INFO:tensorflow:Assets written to: model\\large_nn\\assets\n"
     ]
    },
    {
     "name": "stdout",
     "output_type": "stream",
     "text": [
      "563/563 [==============================] - 1s 3ms/step - loss: 3438598400.0000 - root_mean_squared_error: 58639.5625 - val_loss: 3569434880.0000 - val_root_mean_squared_error: 59744.7461\n",
      "Epoch 9/100\n",
      "532/563 [===========================>..] - ETA: 0s - loss: 3385456640.0000 - root_mean_squared_error: 58184.6758INFO:tensorflow:Assets written to: model\\large_nn\\assets\n"
     ]
    },
    {
     "name": "stderr",
     "output_type": "stream",
     "text": [
      "INFO:tensorflow:Assets written to: model\\large_nn\\assets\n"
     ]
    },
    {
     "name": "stdout",
     "output_type": "stream",
     "text": [
      "563/563 [==============================] - 2s 3ms/step - loss: 3389680128.0000 - root_mean_squared_error: 58220.9609 - val_loss: 3494152192.0000 - val_root_mean_squared_error: 59111.3555\n",
      "Epoch 10/100\n",
      "563/563 [==============================] - 1s 1ms/step - loss: 3341646592.0000 - root_mean_squared_error: 57806.9766 - val_loss: 3649451520.0000 - val_root_mean_squared_error: 60410.6914\n",
      "Epoch 11/100\n",
      "541/563 [===========================>..] - ETA: 0s - loss: 3275916288.0000 - root_mean_squared_error: 57235.6211INFO:tensorflow:Assets written to: model\\large_nn\\assets\n"
     ]
    },
    {
     "name": "stderr",
     "output_type": "stream",
     "text": [
      "INFO:tensorflow:Assets written to: model\\large_nn\\assets\n"
     ]
    },
    {
     "name": "stdout",
     "output_type": "stream",
     "text": [
      "563/563 [==============================] - 2s 4ms/step - loss: 3281831424.0000 - root_mean_squared_error: 57287.2695 - val_loss: 3290059520.0000 - val_root_mean_squared_error: 57359.0391\n",
      "Epoch 12/100\n",
      "563/563 [==============================] - 1s 2ms/step - loss: 3179109888.0000 - root_mean_squared_error: 56383.5977 - val_loss: 3437400320.0000 - val_root_mean_squared_error: 58629.3477\n",
      "Epoch 13/100\n",
      "549/563 [============================>.] - ETA: 0s - loss: 3246057984.0000 - root_mean_squared_error: 56974.1875INFO:tensorflow:Assets written to: model\\large_nn\\assets\n"
     ]
    },
    {
     "name": "stderr",
     "output_type": "stream",
     "text": [
      "INFO:tensorflow:Assets written to: model\\large_nn\\assets\n"
     ]
    },
    {
     "name": "stdout",
     "output_type": "stream",
     "text": [
      "563/563 [==============================] - 2s 3ms/step - loss: 3227544832.0000 - root_mean_squared_error: 56811.4844 - val_loss: 3190063360.0000 - val_root_mean_squared_error: 56480.6445\n",
      "Epoch 14/100\n",
      "563/563 [==============================] - 1s 2ms/step - loss: 3062944768.0000 - root_mean_squared_error: 55343.8789 - val_loss: 3411046144.0000 - val_root_mean_squared_error: 58404.1602\n",
      "Epoch 15/100\n",
      "532/563 [===========================>..] - ETA: 0s - loss: 3078846720.0000 - root_mean_squared_error: 55487.3555INFO:tensorflow:Assets written to: model\\large_nn\\assets\n"
     ]
    },
    {
     "name": "stderr",
     "output_type": "stream",
     "text": [
      "INFO:tensorflow:Assets written to: model\\large_nn\\assets\n"
     ]
    },
    {
     "name": "stdout",
     "output_type": "stream",
     "text": [
      "563/563 [==============================] - 2s 3ms/step - loss: 3076428288.0000 - root_mean_squared_error: 55465.5586 - val_loss: 3157415936.0000 - val_root_mean_squared_error: 56190.8867\n",
      "Epoch 16/100\n",
      "563/563 [==============================] - 1s 1ms/step - loss: 3091346176.0000 - root_mean_squared_error: 55599.8750 - val_loss: 3510939392.0000 - val_root_mean_squared_error: 59253.1797\n",
      "Epoch 17/100\n",
      "563/563 [==============================] - 1s 1ms/step - loss: 2983803392.0000 - root_mean_squared_error: 54624.2031 - val_loss: 3277484032.0000 - val_root_mean_squared_error: 57249.3164\n",
      "Epoch 18/100\n",
      "563/563 [==============================] - 1s 1ms/step - loss: 3039039232.0000 - root_mean_squared_error: 55127.4805 - val_loss: 3398304768.0000 - val_root_mean_squared_error: 58294.9805\n",
      "Epoch 19/100\n",
      "547/563 [============================>.] - ETA: 0s - loss: 2959506432.0000 - root_mean_squared_error: 54401.3477INFO:tensorflow:Assets written to: model\\large_nn\\assets\n"
     ]
    },
    {
     "name": "stderr",
     "output_type": "stream",
     "text": [
      "INFO:tensorflow:Assets written to: model\\large_nn\\assets\n"
     ]
    },
    {
     "name": "stdout",
     "output_type": "stream",
     "text": [
      "563/563 [==============================] - 2s 3ms/step - loss: 2968375808.0000 - root_mean_squared_error: 54482.8047 - val_loss: 3042155008.0000 - val_root_mean_squared_error: 55155.7344\n",
      "Epoch 20/100\n",
      "527/563 [===========================>..] - ETA: 0s - loss: 2950620928.0000 - root_mean_squared_error: 54319.6172INFO:tensorflow:Assets written to: model\\large_nn\\assets\n"
     ]
    },
    {
     "name": "stderr",
     "output_type": "stream",
     "text": [
      "INFO:tensorflow:Assets written to: model\\large_nn\\assets\n"
     ]
    },
    {
     "name": "stdout",
     "output_type": "stream",
     "text": [
      "563/563 [==============================] - 2s 3ms/step - loss: 2962895360.0000 - root_mean_squared_error: 54432.4844 - val_loss: 3030715904.0000 - val_root_mean_squared_error: 55051.9375\n",
      "Epoch 21/100\n",
      "563/563 [==============================] - 1s 1ms/step - loss: 2873101056.0000 - root_mean_squared_error: 53601.3164 - val_loss: 3152147712.0000 - val_root_mean_squared_error: 56143.9922\n",
      "Epoch 22/100\n",
      "563/563 [==============================] - 1s 1ms/step - loss: 2909227264.0000 - root_mean_squared_error: 53937.2539 - val_loss: 3039049472.0000 - val_root_mean_squared_error: 55127.5742\n",
      "Epoch 23/100\n",
      "563/563 [==============================] - 1s 1ms/step - loss: 2851057408.0000 - root_mean_squared_error: 53395.2930 - val_loss: 3180763392.0000 - val_root_mean_squared_error: 56398.2578\n",
      "Epoch 24/100\n",
      "563/563 [==============================] - 1s 1ms/step - loss: 2870867968.0000 - root_mean_squared_error: 53580.4805 - val_loss: 3245598720.0000 - val_root_mean_squared_error: 56970.1562\n",
      "Epoch 25/100\n",
      "563/563 [==============================] - 1s 1ms/step - loss: 2825189888.0000 - root_mean_squared_error: 53152.5156 - val_loss: 3234720000.0000 - val_root_mean_squared_error: 56874.5977\n",
      "Epoch 26/100\n",
      "563/563 [==============================] - 1s 1ms/step - loss: 2840872448.0000 - root_mean_squared_error: 53299.8359 - val_loss: 3103356928.0000 - val_root_mean_squared_error: 55707.7812\n",
      "Epoch 27/100\n",
      "544/563 [===========================>..] - ETA: 0s - loss: 2810779904.0000 - root_mean_squared_error: 53016.7891INFO:tensorflow:Assets written to: model\\large_nn\\assets\n"
     ]
    },
    {
     "name": "stderr",
     "output_type": "stream",
     "text": [
      "INFO:tensorflow:Assets written to: model\\large_nn\\assets\n"
     ]
    },
    {
     "name": "stdout",
     "output_type": "stream",
     "text": [
      "563/563 [==============================] - 2s 3ms/step - loss: 2802778368.0000 - root_mean_squared_error: 52941.2734 - val_loss: 2926015488.0000 - val_root_mean_squared_error: 54092.6562\n",
      "Epoch 28/100\n",
      "563/563 [==============================] - 1s 2ms/step - loss: 2844615936.0000 - root_mean_squared_error: 53334.9414 - val_loss: 3076372480.0000 - val_root_mean_squared_error: 55465.0547\n",
      "Epoch 29/100\n",
      "563/563 [==============================] - 1s 2ms/step - loss: 2776345600.0000 - root_mean_squared_error: 52691.0391 - val_loss: 3227790592.0000 - val_root_mean_squared_error: 56813.6484\n",
      "Epoch 30/100\n",
      "563/563 [==============================] - 1s 2ms/step - loss: 2790443776.0000 - root_mean_squared_error: 52824.6523 - val_loss: 3008263424.0000 - val_root_mean_squared_error: 54847.6367\n",
      "Epoch 31/100\n",
      "563/563 [==============================] - 1s 1ms/step - loss: 2816207360.0000 - root_mean_squared_error: 53067.9492 - val_loss: 3072991232.0000 - val_root_mean_squared_error: 55434.5664\n",
      "Epoch 32/100\n",
      "563/563 [==============================] - 1s 1ms/step - loss: 2753619712.0000 - root_mean_squared_error: 52474.9453 - val_loss: 3037830656.0000 - val_root_mean_squared_error: 55116.5195\n",
      "Epoch 33/100\n",
      "538/563 [===========================>..] - ETA: 0s - loss: 2752129024.0000 - root_mean_squared_error: 52460.7383INFO:tensorflow:Assets written to: model\\large_nn\\assets\n"
     ]
    },
    {
     "name": "stderr",
     "output_type": "stream",
     "text": [
      "INFO:tensorflow:Assets written to: model\\large_nn\\assets\n"
     ]
    },
    {
     "name": "stdout",
     "output_type": "stream",
     "text": [
      "563/563 [==============================] - 2s 3ms/step - loss: 2725541632.0000 - root_mean_squared_error: 52206.7188 - val_loss: 2880206336.0000 - val_root_mean_squared_error: 53667.5547\n",
      "Epoch 34/100\n",
      "563/563 [==============================] - 1s 1ms/step - loss: 2765470720.0000 - root_mean_squared_error: 52587.7422 - val_loss: 2925276416.0000 - val_root_mean_squared_error: 54085.8242\n",
      "Epoch 35/100\n",
      "552/563 [============================>.] - ETA: 0s - loss: 2711261184.0000 - root_mean_squared_error: 52069.7734INFO:tensorflow:Assets written to: model\\large_nn\\assets\n"
     ]
    },
    {
     "name": "stderr",
     "output_type": "stream",
     "text": [
      "INFO:tensorflow:Assets written to: model\\large_nn\\assets\n"
     ]
    },
    {
     "name": "stdout",
     "output_type": "stream",
     "text": [
      "563/563 [==============================] - 2s 3ms/step - loss: 2714811136.0000 - root_mean_squared_error: 52103.8477 - val_loss: 2845144064.0000 - val_root_mean_squared_error: 53339.8906\n",
      "Epoch 36/100\n",
      "563/563 [==============================] - 1s 1ms/step - loss: 2738814464.0000 - root_mean_squared_error: 52333.6836 - val_loss: 2878769152.0000 - val_root_mean_squared_error: 53654.1641\n",
      "Epoch 37/100\n",
      "563/563 [==============================] - 1s 1ms/step - loss: 2662507264.0000 - root_mean_squared_error: 51599.4883 - val_loss: 3088867072.0000 - val_root_mean_squared_error: 55577.5781\n",
      "Epoch 38/100\n",
      "563/563 [==============================] - 1s 1ms/step - loss: 2644976128.0000 - root_mean_squared_error: 51429.3320 - val_loss: 3030062080.0000 - val_root_mean_squared_error: 55046.0000\n",
      "Epoch 39/100\n",
      "563/563 [==============================] - 1s 1ms/step - loss: 2683516160.0000 - root_mean_squared_error: 51802.6641 - val_loss: 2909760512.0000 - val_root_mean_squared_error: 53942.1953\n",
      "Epoch 40/100\n",
      "563/563 [==============================] - 1s 1ms/step - loss: 2598097152.0000 - root_mean_squared_error: 50971.5312 - val_loss: 3009971200.0000 - val_root_mean_squared_error: 54863.2031\n",
      "Epoch 41/100\n",
      "563/563 [==============================] - 1s 1ms/step - loss: 2628072704.0000 - root_mean_squared_error: 51264.7305 - val_loss: 3068851712.0000 - val_root_mean_squared_error: 55397.2188\n",
      "Epoch 42/100\n",
      "563/563 [==============================] - 1s 1ms/step - loss: 2643924480.0000 - root_mean_squared_error: 51419.1055 - val_loss: 3350006272.0000 - val_root_mean_squared_error: 57879.2383\n",
      "Epoch 43/100\n",
      "563/563 [==============================] - 1s 1ms/step - loss: 2636433920.0000 - root_mean_squared_error: 51346.2148 - val_loss: 3480073984.0000 - val_root_mean_squared_error: 58992.1523\n",
      "Epoch 44/100\n",
      "563/563 [==============================] - 1s 2ms/step - loss: 2597367040.0000 - root_mean_squared_error: 50964.3711 - val_loss: 3217342208.0000 - val_root_mean_squared_error: 56721.6211\n",
      "Epoch 45/100\n",
      "563/563 [==============================] - 1s 2ms/step - loss: 2587609088.0000 - root_mean_squared_error: 50868.5469 - val_loss: 3045698560.0000 - val_root_mean_squared_error: 55187.8477\n",
      "Epoch 46/100\n",
      "563/563 [==============================] - 1s 2ms/step - loss: 2616194304.0000 - root_mean_squared_error: 51148.7461 - val_loss: 2989889024.0000 - val_root_mean_squared_error: 54679.8789\n",
      "Epoch 47/100\n",
      "563/563 [==============================] - 1s 1ms/step - loss: 2566961920.0000 - root_mean_squared_error: 50665.1953 - val_loss: 2990236416.0000 - val_root_mean_squared_error: 54683.0547\n",
      "Epoch 48/100\n",
      "563/563 [==============================] - 1s 1ms/step - loss: 2601825024.0000 - root_mean_squared_error: 51008.0859 - val_loss: 2878172416.0000 - val_root_mean_squared_error: 53648.6016\n",
      "Epoch 49/100\n",
      "563/563 [==============================] - 1s 2ms/step - loss: 2584607232.0000 - root_mean_squared_error: 50839.0312 - val_loss: 2989659904.0000 - val_root_mean_squared_error: 54677.7812\n",
      "Epoch 50/100\n",
      "563/563 [==============================] - 1s 1ms/step - loss: 2557760256.0000 - root_mean_squared_error: 50574.3047 - val_loss: 2907186688.0000 - val_root_mean_squared_error: 53918.3320\n",
      "Epoch 51/100\n",
      "563/563 [==============================] - 1s 1ms/step - loss: 2547899904.0000 - root_mean_squared_error: 50476.7266 - val_loss: 3023284992.0000 - val_root_mean_squared_error: 54984.4062\n",
      "Epoch 52/100\n",
      "563/563 [==============================] - 1s 2ms/step - loss: 2555362048.0000 - root_mean_squared_error: 50550.5898 - val_loss: 2912504064.0000 - val_root_mean_squared_error: 53967.6211\n",
      "Epoch 53/100\n",
      "563/563 [==============================] - 1s 1ms/step - loss: 2558628096.0000 - root_mean_squared_error: 50582.8828 - val_loss: 3134484736.0000 - val_root_mean_squared_error: 55986.4688\n",
      "Epoch 54/100\n",
      "563/563 [==============================] - 1s 1ms/step - loss: 2522099712.0000 - root_mean_squared_error: 50220.5117 - val_loss: 3460943872.0000 - val_root_mean_squared_error: 58829.7891\n",
      "Epoch 55/100\n",
      "563/563 [==============================] - 1s 1ms/step - loss: 2524316672.0000 - root_mean_squared_error: 50242.5781 - val_loss: 3229135616.0000 - val_root_mean_squared_error: 56825.4844\n",
      "Epoch 56/100\n",
      "563/563 [==============================] - 1s 1ms/step - loss: 2526919168.0000 - root_mean_squared_error: 50268.4727 - val_loss: 3207796224.0000 - val_root_mean_squared_error: 56637.4102\n",
      "Epoch 57/100\n",
      "563/563 [==============================] - 1s 1ms/step - loss: 2516451840.0000 - root_mean_squared_error: 50164.2500 - val_loss: 3027565568.0000 - val_root_mean_squared_error: 55023.3203\n",
      "Epoch 58/100\n",
      "563/563 [==============================] - 1s 1ms/step - loss: 2551855616.0000 - root_mean_squared_error: 50515.8945 - val_loss: 3074357760.0000 - val_root_mean_squared_error: 55446.8906\n",
      "Epoch 59/100\n",
      "563/563 [==============================] - 1s 2ms/step - loss: 2467060224.0000 - root_mean_squared_error: 49669.5117 - val_loss: 3208161024.0000 - val_root_mean_squared_error: 56640.6289\n",
      "Epoch 60/100\n",
      "563/563 [==============================] - 1s 1ms/step - loss: 2494656512.0000 - root_mean_squared_error: 49946.5352 - val_loss: 3304889600.0000 - val_root_mean_squared_error: 57488.1680\n",
      "Epoch 61/100\n",
      "563/563 [==============================] - 1s 1ms/step - loss: 2503325952.0000 - root_mean_squared_error: 50033.2500 - val_loss: 2892196864.0000 - val_root_mean_squared_error: 53779.1484\n",
      "Epoch 62/100\n",
      "563/563 [==============================] - 1s 1ms/step - loss: 2473947392.0000 - root_mean_squared_error: 49738.7930 - val_loss: 3044999424.0000 - val_root_mean_squared_error: 55181.5117\n",
      "Epoch 63/100\n",
      "561/563 [============================>.] - ETA: 0s - loss: 2458423296.0000 - root_mean_squared_error: 49582.4883INFO:tensorflow:Assets written to: model\\large_nn\\assets\n"
     ]
    },
    {
     "name": "stderr",
     "output_type": "stream",
     "text": [
      "INFO:tensorflow:Assets written to: model\\large_nn\\assets\n"
     ]
    },
    {
     "name": "stdout",
     "output_type": "stream",
     "text": [
      "563/563 [==============================] - 2s 3ms/step - loss: 2457382400.0000 - root_mean_squared_error: 49571.9922 - val_loss: 2800553216.0000 - val_root_mean_squared_error: 52920.2539\n",
      "Epoch 64/100\n",
      "563/563 [==============================] - 1s 2ms/step - loss: 2485757184.0000 - root_mean_squared_error: 49857.3672 - val_loss: 4064533248.0000 - val_root_mean_squared_error: 63753.6914\n",
      "Epoch 65/100\n",
      "563/563 [==============================] - 1s 2ms/step - loss: 2516766208.0000 - root_mean_squared_error: 50167.3828 - val_loss: 2822116352.0000 - val_root_mean_squared_error: 53123.5938\n",
      "Epoch 66/100\n",
      "563/563 [==============================] - 1s 1ms/step - loss: 2457017088.0000 - root_mean_squared_error: 49568.3086 - val_loss: 2917913088.0000 - val_root_mean_squared_error: 54017.7109\n",
      "Epoch 67/100\n",
      "563/563 [==============================] - 1s 1ms/step - loss: 2396558080.0000 - root_mean_squared_error: 48954.6523 - val_loss: 2882153472.0000 - val_root_mean_squared_error: 53685.6914\n",
      "Epoch 68/100\n",
      "563/563 [==============================] - 1s 1ms/step - loss: 2469415680.0000 - root_mean_squared_error: 49693.2148 - val_loss: 2871163648.0000 - val_root_mean_squared_error: 53583.2422\n",
      "Epoch 69/100\n",
      "563/563 [==============================] - 1s 1ms/step - loss: 2457232640.0000 - root_mean_squared_error: 49570.4805 - val_loss: 3324121856.0000 - val_root_mean_squared_error: 57655.1992\n",
      "Epoch 70/100\n",
      "563/563 [==============================] - 1s 1ms/step - loss: 2437640960.0000 - root_mean_squared_error: 49372.4727 - val_loss: 3024585728.0000 - val_root_mean_squared_error: 54996.2344\n",
      "Epoch 71/100\n",
      "563/563 [==============================] - 1s 1ms/step - loss: 2432599040.0000 - root_mean_squared_error: 49321.3867 - val_loss: 2859300096.0000 - val_root_mean_squared_error: 53472.4219\n",
      "Epoch 72/100\n",
      "563/563 [==============================] - 1s 1ms/step - loss: 2423294208.0000 - root_mean_squared_error: 49226.9648 - val_loss: 3039275008.0000 - val_root_mean_squared_error: 55129.6211\n",
      "Epoch 73/100\n",
      "563/563 [==============================] - 1s 2ms/step - loss: 2425460224.0000 - root_mean_squared_error: 49248.9609 - val_loss: 2950497280.0000 - val_root_mean_squared_error: 54318.4805\n",
      "Epoch 74/100\n",
      "563/563 [==============================] - 1s 2ms/step - loss: 2382370560.0000 - root_mean_squared_error: 48809.5352 - val_loss: 2836982272.0000 - val_root_mean_squared_error: 53263.3281\n",
      "Epoch 75/100\n",
      "563/563 [==============================] - 1s 2ms/step - loss: 2350525696.0000 - root_mean_squared_error: 48482.2188 - val_loss: 2918334208.0000 - val_root_mean_squared_error: 54021.6094\n",
      "Epoch 76/100\n",
      "563/563 [==============================] - 1s 2ms/step - loss: 2368139520.0000 - root_mean_squared_error: 48663.5352 - val_loss: 3221672960.0000 - val_root_mean_squared_error: 56759.7812\n",
      "Epoch 77/100\n",
      "563/563 [==============================] - 1s 1ms/step - loss: 2360720128.0000 - root_mean_squared_error: 48587.2422 - val_loss: 3169283072.0000 - val_root_mean_squared_error: 56296.3867\n",
      "Epoch 78/100\n",
      "563/563 [==============================] - 1s 1ms/step - loss: 2377795584.0000 - root_mean_squared_error: 48762.6445 - val_loss: 2877244416.0000 - val_root_mean_squared_error: 53639.9531\n",
      "Epoch 79/100\n",
      "563/563 [==============================] - 1s 1ms/step - loss: 2426082048.0000 - root_mean_squared_error: 49255.2734 - val_loss: 3084755968.0000 - val_root_mean_squared_error: 55540.5781\n",
      "Epoch 80/100\n",
      "563/563 [==============================] - 1s 2ms/step - loss: 2400512256.0000 - root_mean_squared_error: 48995.0234 - val_loss: 2851354112.0000 - val_root_mean_squared_error: 53398.0703\n",
      "Epoch 81/100\n",
      "563/563 [==============================] - 1s 2ms/step - loss: 2369024256.0000 - root_mean_squared_error: 48672.6250 - val_loss: 2852028672.0000 - val_root_mean_squared_error: 53404.3867\n",
      "Epoch 82/100\n",
      "563/563 [==============================] - 1s 2ms/step - loss: 2351245312.0000 - root_mean_squared_error: 48489.6406 - val_loss: 3170992896.0000 - val_root_mean_squared_error: 56311.5703\n",
      "Epoch 83/100\n",
      "563/563 [==============================] - 1s 2ms/step - loss: 2395253248.0000 - root_mean_squared_error: 48941.3242 - val_loss: 3134002432.0000 - val_root_mean_squared_error: 55982.1602\n",
      "Epoch 84/100\n",
      "563/563 [==============================] - 1s 1ms/step - loss: 2378619648.0000 - root_mean_squared_error: 48771.0938 - val_loss: 3136059904.0000 - val_root_mean_squared_error: 56000.5352\n",
      "Epoch 85/100\n",
      "563/563 [==============================] - 1s 1ms/step - loss: 2397620992.0000 - root_mean_squared_error: 48965.5078 - val_loss: 2956494592.0000 - val_root_mean_squared_error: 54373.6562\n",
      "Epoch 86/100\n",
      "563/563 [==============================] - 1s 2ms/step - loss: 2384432384.0000 - root_mean_squared_error: 48830.6484 - val_loss: 3169483008.0000 - val_root_mean_squared_error: 56298.1602\n",
      "Epoch 87/100\n",
      "563/563 [==============================] - 1s 2ms/step - loss: 2357079552.0000 - root_mean_squared_error: 48549.7617 - val_loss: 2990476288.0000 - val_root_mean_squared_error: 54685.2461\n",
      "Epoch 88/100\n",
      "563/563 [==============================] - 1s 1ms/step - loss: 2378784256.0000 - root_mean_squared_error: 48772.7812 - val_loss: 2908071424.0000 - val_root_mean_squared_error: 53926.5391\n",
      "Epoch 89/100\n",
      "563/563 [==============================] - 1s 1ms/step - loss: 2352084992.0000 - root_mean_squared_error: 48498.3008 - val_loss: 2818271488.0000 - val_root_mean_squared_error: 53087.3945\n",
      "Epoch 90/100\n",
      "563/563 [==============================] - ETA: 0s - loss: 2296379136.0000 - root_mean_squared_error: 47920.5508INFO:tensorflow:Assets written to: model\\large_nn\\assets\n"
     ]
    },
    {
     "name": "stderr",
     "output_type": "stream",
     "text": [
      "INFO:tensorflow:Assets written to: model\\large_nn\\assets\n"
     ]
    },
    {
     "name": "stdout",
     "output_type": "stream",
     "text": [
      "563/563 [==============================] - 2s 3ms/step - loss: 2296379136.0000 - root_mean_squared_error: 47920.5508 - val_loss: 2722768384.0000 - val_root_mean_squared_error: 52180.1523\n",
      "Epoch 91/100\n",
      "563/563 [==============================] - 1s 1ms/step - loss: 2339730688.0000 - root_mean_squared_error: 48370.7617 - val_loss: 3171804160.0000 - val_root_mean_squared_error: 56318.7734\n",
      "Epoch 92/100\n",
      "563/563 [==============================] - 1s 1ms/step - loss: 2339261184.0000 - root_mean_squared_error: 48365.9102 - val_loss: 2831714304.0000 - val_root_mean_squared_error: 53213.8555\n",
      "Epoch 93/100\n",
      "563/563 [==============================] - 1s 1ms/step - loss: 2303572992.0000 - root_mean_squared_error: 47995.5508 - val_loss: 2963381504.0000 - val_root_mean_squared_error: 54436.9492\n",
      "Epoch 94/100\n",
      "563/563 [==============================] - 1s 1ms/step - loss: 2319943936.0000 - root_mean_squared_error: 48165.7969 - val_loss: 2932380416.0000 - val_root_mean_squared_error: 54151.4570\n",
      "Epoch 95/100\n",
      "563/563 [==============================] - 1s 1ms/step - loss: 2299538176.0000 - root_mean_squared_error: 47953.5000 - val_loss: 2849509376.0000 - val_root_mean_squared_error: 53380.7969\n",
      "Epoch 96/100\n",
      "563/563 [==============================] - 1s 1ms/step - loss: 2298100992.0000 - root_mean_squared_error: 47938.5117 - val_loss: 2959213824.0000 - val_root_mean_squared_error: 54398.6562\n",
      "Epoch 97/100\n",
      "563/563 [==============================] - 1s 1ms/step - loss: 2314125568.0000 - root_mean_squared_error: 48105.3594 - val_loss: 3010271488.0000 - val_root_mean_squared_error: 54865.9414\n",
      "Epoch 98/100\n",
      "563/563 [==============================] - 1s 2ms/step - loss: 2353185024.0000 - root_mean_squared_error: 48509.6367 - val_loss: 2902953984.0000 - val_root_mean_squared_error: 53879.0664\n",
      "Epoch 99/100\n",
      "563/563 [==============================] - 1s 2ms/step - loss: 2332795648.0000 - root_mean_squared_error: 48299.0234 - val_loss: 3010328576.0000 - val_root_mean_squared_error: 54866.4609\n",
      "Epoch 100/100\n",
      "563/563 [==============================] - 1s 2ms/step - loss: 2289128960.0000 - root_mean_squared_error: 47844.8438 - val_loss: 3530773248.0000 - val_root_mean_squared_error: 59420.3086\n"
     ]
    },
    {
     "data": {
      "text/plain": [
       "<keras.src.callbacks.History at 0x2b3ecfeaad0>"
      ]
     },
     "execution_count": 145,
     "metadata": {},
     "output_type": "execute_result"
    }
   ],
   "source": [
    "# Initialize a Sequential neural network model with a larger architecture\n",
    "large_nn = Sequential()\n",
    "\n",
    "# Add an input layer specifying the input shape (13 features)\n",
    "large_nn.add(InputLayer((13,)))\n",
    "\n",
    "# Add a dense hidden layer with 256 units and ReLU activation function\n",
    "large_nn.add(Dense(256, 'relu'))\n",
    "\n",
    "# Add another dense hidden layer with 128 units and ReLU activation function\n",
    "large_nn.add(Dense(128, 'relu'))\n",
    "\n",
    "# Add a dense hidden layer with 64 units and ReLU activation function\n",
    "large_nn.add(Dense(64, 'relu'))\n",
    "\n",
    "# Add a dense hidden layer with 32 units and ReLU activation function\n",
    "large_nn.add(Dense(32, 'relu'))\n",
    "\n",
    "# Add an output layer with 1 unit and linear activation function for regression\n",
    "large_nn.add(Dense(1, 'linear'))\n",
    "\n",
    "# Initialize the Adam optimizer with a learning rate of 0.1\n",
    "opt = Adam(learning_rate=0.1)\n",
    "\n",
    "# Set up a ModelCheckpoint callback to save the best model during training\n",
    "cp = ModelCheckpoint('model/large_nn', save_best_only=True)\n",
    "\n",
    "# Compile the model with mean squared error loss, Adam optimizer, and Root Mean Squared Error as a metric\n",
    "large_nn.compile(optimizer=opt, loss='mse', metrics=[RootMeanSquaredError()])\n",
    "\n",
    "# Train the model on the training data, with validation data and ModelCheckpoint callback\n",
    "large_nn.fit(x=X_train, y=y_train, validation_data=(X_val, y_val), callbacks=[cp], epochs=100)\n"
   ]
  },
  {
   "cell_type": "code",
   "execution_count": 146,
   "metadata": {},
   "outputs": [
    {
     "name": "stdout",
     "output_type": "stream",
     "text": [
      "563/563 [==============================] - 1s 884us/step\n",
      "38/38 [==============================] - 0s 1ms/step\n"
     ]
    },
    {
     "data": {
      "text/plain": [
       "(45812.610466828686, 52180.15132783272)"
      ]
     },
     "execution_count": 146,
     "metadata": {},
     "output_type": "execute_result"
    }
   ],
   "source": [
    "# Import the load_model function from Keras to load a saved model\n",
    "from keras.models import load_model\n",
    "\n",
    "# Load the previously saved large neural network model from the specified file path\n",
    "large_nn = load_model('model/large_nn')\n",
    "\n",
    "# Calculate the Root Mean Squared Error (RMSE) for the training and validation datasets\n",
    "# RMSE is computed by predicting with the loaded model on the training and validation sets, and comparing the predictions with the true labels\n",
    "mse(large_nn.predict(X_train), y_train, squared=False), mse(large_nn.predict(X_val), y_val, squared=False)\n"
   ]
  },
  {
   "cell_type": "code",
   "execution_count": 147,
   "metadata": {},
   "outputs": [
    {
     "data": {
      "text/plain": [
       "50474.97825244157"
      ]
     },
     "execution_count": 147,
     "metadata": {},
     "output_type": "execute_result"
    }
   ],
   "source": [
    "# Calculate the Root Mean Squared Error (RMSE) for the test dataset\n",
    "# RMSE is computed by predicting with the Gradient Boosting Regressor model on the test set, and comparing the predictions with the true labels\n",
    "mse(gbr.predict(X_test), y_test, squared=False)\n"
   ]
  }
 ],
 "metadata": {
  "kernelspec": {
   "display_name": "base",
   "language": "python",
   "name": "python3"
  },
  "language_info": {
   "codemirror_mode": {
    "name": "ipython",
    "version": 3
   },
   "file_extension": ".py",
   "mimetype": "text/x-python",
   "name": "python",
   "nbconvert_exporter": "python",
   "pygments_lexer": "ipython3",
   "version": "3.11.5"
  }
 },
 "nbformat": 4,
 "nbformat_minor": 2
}
